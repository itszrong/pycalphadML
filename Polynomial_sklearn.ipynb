{
 "cells": [
  {
   "cell_type": "code",
   "execution_count": 18,
   "metadata": {},
   "outputs": [],
   "source": [
    "import tensorflow as tf\n",
    "from tensorflow import keras\n",
    "import matplotlib.pyplot as plt\n",
    "import numpy as np\n",
    "from sklearn.preprocessing import MinMaxScaler\n",
    "\n",
    "x_train = np.load('x_train.npy')\n",
    "x_test = np.load('x_test.npy')\n",
    "y_train = np.load('y_train.npy')\n",
    "y_test = np.load('y_test.npy')\n"
   ]
  },
  {
   "cell_type": "code",
   "execution_count": 20,
   "metadata": {},
   "outputs": [],
   "source": [
    "X, y = x_train, y_train\n",
    "# X_scaled = X/max(X)\n",
    "y_scaled = y/max(y)\n",
    "\n",
    "scaler = MinMaxScaler(feature_range=(-1, 1))\n",
    "scaler.fit(X)\n",
    "MinMaxScaler(copy=True, feature_range=(-1, 1))\n",
    "X_scaled = scaler.transform(X)"
   ]
  },
  {
   "cell_type": "code",
   "execution_count": 22,
   "metadata": {},
   "outputs": [
    {
     "name": "stdout",
     "output_type": "stream",
     "text": [
      "Epoch 1/10\n",
      "4770/4770 [==============================] - 10s 2ms/step - loss: 17.8653\n",
      "Epoch 2/10\n",
      "4770/4770 [==============================] - 11s 2ms/step - loss: 14.6628\n",
      "Epoch 3/10\n",
      "4770/4770 [==============================] - 9s 2ms/step - loss: 13.3158\n",
      "Epoch 4/10\n",
      "4770/4770 [==============================] - 10s 2ms/step - loss: 12.8399\n",
      "Epoch 5/10\n",
      "4770/4770 [==============================] - 10s 2ms/step - loss: 12.6118\n",
      "Epoch 6/10\n",
      "4770/4770 [==============================] - 9s 2ms/step - loss: 12.5803\n",
      "Epoch 7/10\n",
      "4770/4770 [==============================] - 11s 2ms/step - loss: 12.5742\n",
      "Epoch 8/10\n",
      "4770/4770 [==============================] - 10s 2ms/step - loss: 12.5697\n",
      "Epoch 9/10\n",
      "4770/4770 [==============================] - 10s 2ms/step - loss: 12.5652\n",
      "Epoch 10/10\n",
      "4770/4770 [==============================] - 10s 2ms/step - loss: 12.5607\n"
     ]
    },
    {
     "data": {
      "image/png": "[encoded data removed]",
      "text/plain": [
       "<Figure size 432x288 with 1 Axes>"
      ]
     },
     "metadata": {
      "needs_background": "light"
     },
     "output_type": "display_data"
    },
    {
     "name": "stdout",
     "output_type": "stream",
     "text": [
      "4770/4770 [==============================] - 10s 2ms/step\n"
     ]
    },
    {
     "ename": "NameError",
     "evalue": "name 'mae' is not defined",
     "output_type": "error",
     "traceback": [
      "\u001b[1;31m---------------------------------------------------------------------------\u001b[0m",
      "\u001b[1;31mNameError\u001b[0m                                 Traceback (most recent call last)",
      "\u001b[1;32mc:\\Users\\zhenyap\\pycalphad\\Polynomial_sklearn.ipynb Cell 3\u001b[0m in \u001b[0;36m<cell line: 22>\u001b[1;34m()\u001b[0m\n\u001b[0;32m     <a href='vscode-notebook-cell:/c%3A/Users/zhenyap/pycalphad/Polynomial_sklearn.ipynb#ch0000005?line=19'>20</a>\u001b[0m plt\u001b[39m.\u001b[39mxlabel(\u001b[39m'\u001b[39m\u001b[39m$X$\u001b[39m\u001b[39m'\u001b[39m, fontsize\u001b[39m=\u001b[39m\u001b[39m20\u001b[39m)\n\u001b[0;32m     <a href='vscode-notebook-cell:/c%3A/Users/zhenyap/pycalphad/Polynomial_sklearn.ipynb#ch0000005?line=20'>21</a>\u001b[0m plt\u001b[39m.\u001b[39mylabel(\u001b[39m'\u001b[39m\u001b[39m$y$\u001b[39m\u001b[39m'\u001b[39m, fontsize\u001b[39m=\u001b[39m\u001b[39m20\u001b[39m)\n\u001b[1;32m---> <a href='vscode-notebook-cell:/c%3A/Users/zhenyap/pycalphad/Polynomial_sklearn.ipynb#ch0000005?line=21'>22</a>\u001b[0m plt\u001b[39m.\u001b[39mtext(\u001b[39m0\u001b[39m,\u001b[39m0.70\u001b[39m,\u001b[39m'\u001b[39m\u001b[39mMSE = \u001b[39m\u001b[39m{:.3f}\u001b[39;00m\u001b[39m'\u001b[39m\u001b[39m.\u001b[39mformat(mae), fontsize\u001b[39m=\u001b[39m\u001b[39m20\u001b[39m)\n\u001b[0;32m     <a href='vscode-notebook-cell:/c%3A/Users/zhenyap/pycalphad/Polynomial_sklearn.ipynb#ch0000005?line=22'>23</a>\u001b[0m plt\u001b[39m.\u001b[39mgrid(\u001b[39mTrue\u001b[39;00m)\n\u001b[0;32m     <a href='vscode-notebook-cell:/c%3A/Users/zhenyap/pycalphad/Polynomial_sklearn.ipynb#ch0000005?line=23'>24</a>\u001b[0m plt\u001b[39m.\u001b[39mlegend(fontsize\u001b[39m=\u001b[39m\u001b[39m20\u001b[39m)\n",
      "\u001b[1;31mNameError\u001b[0m: name 'mae' is not defined"
     ]
    },
    {
     "data": {
      "image/png": "[encoded data removed]",
      "text/plain": [
       "<Figure size 864x504 with 1 Axes>"
      ]
     },
     "metadata": {
      "needs_background": "light"
     },
     "output_type": "display_data"
    }
   ],
   "source": [
    "model = tf.keras.Sequential([keras.layers.Dense(units=1, input_shape=[4])])\n",
    "\n",
    "optimizer = tf.keras.optimizers.Adam(learning_rate=1e-3)\n",
    "\n",
    "model.compile(optimizer=optimizer, loss='mae')\n",
    "tf_history = model.fit(X_scaled, y_scaled, epochs=10, verbose=True)\n",
    "\n",
    "plt.plot(tf_history.history['loss'])\n",
    "plt.xlabel('Epochs')\n",
    "plt.ylabel('MSE Loss')\n",
    "plt.show()\n",
    "\n",
    "mse = tf_history.history['loss'][-1]\n",
    "y_hat = model.predict(X)\n",
    "\n",
    "plt.figure(figsize=(12,7))\n",
    "plt.title('TensorFlow Model')\n",
    "plt.scatter(X[:, 0], y, label='Data $(X, y)$')\n",
    "plt.plot(X[:, ], y, color='red', label='Predicted Line $y = f(X)$',linewidth=4.0)\n",
    "plt.xlabel('$X$', fontsize=20)\n",
    "plt.ylabel('$y$', fontsize=20)\n",
    "plt.text(0,0.70,'MSE = {:.3f}'.format(mae), fontsize=20)\n",
    "plt.grid(True)\n",
    "plt.legend(fontsize=20)\n",
    "plt.show()"
   ]
  },
  {
   "cell_type": "code",
   "execution_count": 9,
   "metadata": {},
   "outputs": [
    {
     "name": "stdout",
     "output_type": "stream",
     "text": [
      "Model: \"sequential_2\"\n",
      "_________________________________________________________________\n",
      " Layer (type)                Output Shape              Param #   \n",
      "=================================================================\n",
      " dense_2 (Dense)             (32, 1)                   5         \n",
      "                                                                 \n",
      "=================================================================\n",
      "Total params: 5\n",
      "Trainable params: 5\n",
      "Non-trainable params: 0\n",
      "_________________________________________________________________\n"
     ]
    }
   ],
   "source": [
    "model.summary()"
   ]
  },
  {
   "cell_type": "markdown",
   "metadata": {},
   "source": []
  }
 ],
 "metadata": {
  "kernelspec": {
   "display_name": "Python 3.10.4 ('calphad')",
   "language": "python",
   "name": "python3"
  },
  "language_info": {
   "codemirror_mode": {
    "name": "ipython",
    "version": 3
   },
   "file_extension": ".py",
   "mimetype": "text/x-python",
   "name": "python",
   "nbconvert_exporter": "python",
   "pygments_lexer": "ipython3",
   "version": "3.10.4"
  },
  "orig_nbformat": 4,
  "vscode": {
   "interpreter": {
    "hash": "818be52fc3e67187423b156bcc805b3603ed8f46451ea39369ad69a186d5bd38"
   }
  }
 },
 "nbformat": 4,
 "nbformat_minor": 2
}
