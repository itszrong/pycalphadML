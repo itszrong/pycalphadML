{
 "cells": [
  {
   "cell_type": "code",
   "execution_count": 1,
   "id": "cfce059a-f701-4aad-afd2-f66ea5ceb1a2",
   "metadata": {},
   "outputs": [],
   "source": [
    "from tensorflow import keras\n",
    "import tensorflow as tf\n",
    "import tensorflow_addons as tfa\n",
    "from keras.models import Input, Model\n",
    "from keras.layers import Dense, Layer\n",
    "from pycalphad import Database, calculate, variables as v\n",
    "import numpy as np"
   ]
  },
  {
   "cell_type": "code",
   "execution_count": 2,
   "id": "1c1887f6-718e-41a0-830c-716c399b2e8c",
   "metadata": {},
   "outputs": [],
   "source": [
    "dbf = Database('Mg_Si_Zn.tdb')\n",
    "comps = ['MG', 'SI', 'VA']"
   ]
  },
  {
   "cell_type": "code",
   "execution_count": 3,
   "id": "07892989-8a82-4206-a4aa-cbb18e8764fc",
   "metadata": {},
   "outputs": [
    {
     "name": "stdout",
     "output_type": "stream",
     "text": [
      "OrderedDict([('xsmix', (LIQUID0MG*LIQUID0SI*(-70055 + 24.98*T) - 1300*(LIQUID0MG - LIQUID0SI)*LIQUID0MG*LIQUID0SI + 6272*(LIQUID0MG - LIQUID0SI)**2*LIQUID0MG*LIQUID0SI)*1.0/(LIQUID0MG + LIQUID0SI)), ('mag', 0), ('2st', 0), ('ein', 0.0), ('ord', 0)])\n"
     ]
    }
   ],
   "source": [
    "import pycalphad\n",
    "mod = pycalphad.Model(dbf, comps, 'LIQUID')\n",
    "del mod.models['idmix']\n",
    "del mod.models['ref']\n",
    "print(mod.models)\n",
    "res = calculate(dbf, comps, 'LIQUID', T=(300, 2000, 10), P=1e5, N=1, model=mod, pdens=10)"
   ]
  },
  {
   "cell_type": "code",
   "execution_count": 4,
   "id": "821379b1-df1f-4659-b77d-6dcc707c04c9",
   "metadata": {},
   "outputs": [
    {
     "data": {
      "text/plain": [
       "<matplotlib.collections.PathCollection at 0x1bc64f5d908>"
      ]
     },
     "execution_count": 4,
     "metadata": {},
     "output_type": "execute_result"
    },
    {
     "data": {
      "image/png": "[encoded data removed]",
      "text/plain": [
       "<Figure size 432x288 with 1 Axes>"
      ]
     },
     "metadata": {
      "needs_background": "light"
     },
     "output_type": "display_data"
    }
   ],
   "source": [
    "%matplotlib inline\n",
    "import matplotlib.pyplot as plt\n",
    "plt.scatter(res.Y[..., 0], res.GM)"
   ]
  },
  {
   "cell_type": "code",
   "execution_count": 5,
   "id": "33fefcb4-b5cb-4cef-8cca-87a1f87b87d3",
   "metadata": {},
   "outputs": [
    {
     "name": "stdout",
     "output_type": "stream",
     "text": [
      "(1, 1, 170, 22, 2)\n"
     ]
    }
   ],
   "source": [
    "site_fractions = res.Y.values\n",
    "print(site_fractions.shape)"
   ]
  },
  {
   "cell_type": "code",
   "execution_count": 6,
   "id": "c2064167-d3be-434d-943c-62bb464e51e7",
   "metadata": {},
   "outputs": [
    {
     "name": "stdout",
     "output_type": "stream",
     "text": [
      "(7480, 5)\n"
     ]
    },
    {
     "name": "stderr",
     "output_type": "stream",
     "text": [
      "C:\\Users\\rotis\\AppData\\Local\\Continuum\\anaconda3\\envs\\calphad\\lib\\site-packages\\pandas\\core\\generic.py:4150: PerformanceWarning: dropping on a non-lexsorted multi-index without a level parameter may impact performance.\n",
      "  obj = obj._drop_axis(labels, axis, level=level, errors=errors)\n"
     ]
    }
   ],
   "source": [
    "filtered = res.drop_vars('component').to_dataframe()[['Y', 'GM']] \\\n",
    "                .unstack('internal_dof')\\\n",
    "                .droplevel(level='component')\\\n",
    "                .drop_duplicates()\\\n",
    "                .reset_index()\\\n",
    "                .drop(columns=['N', 'P', 'points'])\n",
    "filtered = res.drop_vars('component').to_dataframe()[['Y', 'GM']] \\\n",
    "                .unstack('internal_dof')\\\n",
    "                .droplevel(level='component')\\\n",
    "                .reset_index().drop(columns=['N', 'P', 'points'])\n",
    "print(filtered.shape)\n",
    "# Not sure how to fix the duplicate energy column yet\n",
    "filtered = filtered.values[:, :1+site_fractions.shape[-1]+1]\n",
    "x_orig = filtered[:, :-1]\n",
    "y_orig = filtered[:, -1]"
   ]
  },
  {
   "cell_type": "code",
   "execution_count": 7,
   "id": "984b23a8-eae0-415e-a539-a6eba4f0d8ec",
   "metadata": {},
   "outputs": [
    {
     "data": {
      "text/plain": [
       "array([[ 3.00000000e+02,  1.00000000e+00,  1.00000000e-14,\n",
       "        -5.75890000e-10],\n",
       "       [ 3.00000000e+02,  1.00000000e+00,  1.00000000e-14,\n",
       "        -5.75890000e-10],\n",
       "       [ 3.00000000e+02,  1.00000000e-14,  1.00000000e+00,\n",
       "        -5.49890000e-10],\n",
       "       ...,\n",
       "       [ 1.99000000e+03,  1.81042920e-01,  8.18957080e-01,\n",
       "        -2.51507503e+03],\n",
       "       [ 1.99000000e+03,  7.94906213e-01,  2.05093787e-01,\n",
       "        -3.08610879e+03],\n",
       "       [ 1.99000000e+03,  7.94906213e-01,  2.05093787e-01,\n",
       "        -3.08610879e+03]])"
      ]
     },
     "execution_count": 7,
     "metadata": {},
     "output_type": "execute_result"
    }
   ],
   "source": [
    "filtered"
   ]
  },
  {
   "cell_type": "code",
   "execution_count": 8,
   "id": "d87310a7-aa89-46aa-9a81-071d4ecf0479",
   "metadata": {},
   "outputs": [],
   "source": [
    "class IdealEntropy(Layer):\n",
    "    def __init__(self, units=32, input_dim=32):\n",
    "        super().__init__()\n",
    "\n",
    "    def call(self, inputs):\n",
    "        return (inputs[:, 1, None] * tf.math.log(inputs[:,1,None]) + inputs[:, 2, None] * tf.math.log(inputs[:,2,None]))\n",
    "\n",
    "class Normalization(Layer):\n",
    "    def __init__(self, input_dim=32, mean=0.0, std=1.0):\n",
    "        super().__init__() \n",
    "        self.mean = mean\n",
    "        self.std = std\n",
    "    def call(self, inputs):\n",
    "        return (inputs - self.mean) / self.std\n",
    "\n",
    "class DenseLogFeatures(Layer):\n",
    "    def __init__(self, units=32, input_dim=32, temp_scale=1.0):\n",
    "        super().__init__()\n",
    "        w_init = tf.random_normal_initializer()\n",
    "        self.w = tf.Variable(\n",
    "            initial_value=w_init(shape=(input_dim, units), dtype=\"float32\"),\n",
    "            trainable=True,\n",
    "        )\n",
    "        b_init = tf.zeros_initializer()\n",
    "        self.b = tf.Variable(\n",
    "            initial_value=b_init(shape=(units,), dtype=\"float32\"), trainable=True\n",
    "        )\n",
    "        self.temp_scale = float(temp_scale)\n",
    "\n",
    "    def call(self, inputs):\n",
    "        scaled_inputs = inputs * tf.constant([1./self.temp_scale, 1.0, 1.0])\n",
    "        result = tf.matmul(scaled_inputs, self.w[:inputs.shape[-1]])\n",
    "        result += tf.matmul(tf.math.multiply(scaled_inputs, tf.math.log(scaled_inputs)), self.w[inputs.shape[-1]:])\n",
    "        #concatenated = tf.concat([inputs, ], axis=-1)\n",
    "        return result + self.b\n",
    "    \n",
    "class DenseLogFeatures(Layer):\n",
    "    def __init__(self, units=32, input_dim=32, temp_scale=1.0):\n",
    "        super().__init__()\n",
    "        w_init = tf.random_normal_initializer()\n",
    "        self.w = tf.Variable(\n",
    "            initial_value=w_init(shape=(input_dim, units), dtype=\"float32\"),\n",
    "            trainable=True,\n",
    "        )\n",
    "        b_init = tf.zeros_initializer()\n",
    "        self.b = tf.Variable(\n",
    "            initial_value=b_init(shape=(units,), dtype=\"float32\"), trainable=True\n",
    "        )\n",
    "        self.temp_scale = float(temp_scale)\n",
    "\n",
    "    def call(self, inputs):\n",
    "        scaled_inputs = inputs * tf.constant([1./self.temp_scale, 1.0, 1.0])\n",
    "        result = tf.matmul(scaled_inputs, self.w[:inputs.shape[-1]])\n",
    "        result += tf.matmul(tf.math.multiply(scaled_inputs, tf.math.log(scaled_inputs)), self.w[inputs.shape[-1]:])\n",
    "        #concatenated = tf.concat([inputs, ], axis=-1)\n",
    "        return tf.nn.gelu(result + self.b)\n",
    "\n",
    "class ConcatLayer(Layer):\n",
    "    def __init__(self, temp_scale=1.0):\n",
    "        super().__init__()\n",
    "        self.temp_scale = float(temp_scale)\n",
    "    def call(self, inputs):\n",
    "        scaled_inputs = inputs * tf.constant([1./self.temp_scale, 1.0, 1.0])\n",
    "        return scaled_inputs\n",
    "        #return tf.concat([scaled_inputs, tf.math.log(scaled_inputs[..., :1])/100], axis=-1)"
   ]
  },
  {
   "cell_type": "code",
   "execution_count": 20,
   "id": "a7f7297a-5362-4864-9758-f1da9af50190",
   "metadata": {},
   "outputs": [
    {
     "name": "stdout",
     "output_type": "stream",
     "text": [
      "Number of training points:  7480\n",
      "Number of features:  3\n"
     ]
    }
   ],
   "source": [
    "from sklearn.preprocessing import PolynomialFeatures\n",
    "from sklearn.model_selection import train_test_split\n",
    "from keras.layers import Dropout, BatchNormalization, LayerNormalization, Dot\n",
    "from tensorflow_addons.layers import PolynomialCrossing\n",
    "\n",
    "x = x_orig.copy()\n",
    "#x[:, 0] /= x_orig[:, 0].std()\n",
    "print('Number of training points: ', x.shape[0])\n",
    "y_unscaled = y_orig #- 8.3145 * x_orig[:, 0] * (x_orig[:, 1] * np.log(x_orig[:, 1]) + x[:, 2] * np.log(x_orig[:, 2]))\n",
    "y = y_unscaled #/ y_unscaled.std() # (y_unscaled - y_unscaled.mean())/y_unscaled.std()\n",
    "print('Number of features: ', x.shape[1])\n",
    "\n",
    "x_train, x_test, y_train, y_test = train_test_split(x, y, test_size=0.1, random_state=1769)\n",
    "inputs = Input(shape=(x.shape[1],))\n",
    "x0 = ConcatLayer(temp_scale=x_orig[:, 0].max())(inputs)\n",
    "#x0 = inputs\n",
    "#x0 = BatchNormalization()(x0)\n",
    "output = PolynomialCrossing(projection_dim=None, use_bias=False)((x0, x0))\n",
    "output = PolynomialCrossing(projection_dim=None, use_bias=False)((x0, output))\n",
    "output = PolynomialCrossing(projection_dim=None, use_bias=False)((x0, output))\n",
    "output = PolynomialCrossing(projection_dim=None, use_bias=False)((x0, output))\n",
    "output = y_unscaled.std() * tf.math.reduce_sum(output, axis=-1)\n",
    "linear_model = Model(inputs, output)\n",
    "#linear_model.compile(optimizer=keras.optimizers.SGD(learning_rate=1e-2, momentum=0.9, nesterov=False), loss='mse')\n",
    "linear_model.compile(optimizer='adam', loss='mse')"
   ]
  },
  {
   "cell_type": "code",
   "execution_count": 21,
   "id": "eec76149-5ff6-4cea-8d51-5eb341123559",
   "metadata": {},
   "outputs": [
    {
     "data": {
      "text/plain": [
       "<tf.Tensor: shape=(748, 3), dtype=float32, numpy=\n",
       "array([[0.22110553, 0.7777778 , 0.22222222],\n",
       "       [0.7839196 , 0.44444445, 0.5555556 ],\n",
       "       [0.6482412 , 0.63092977, 0.36907023],\n",
       "       ...,\n",
       "       [0.18090452, 0.5555556 , 0.44444445],\n",
       "       [0.44723618, 0.5555556 , 0.44444445],\n",
       "       [0.60301507, 0.44444445, 0.5555556 ]], dtype=float32)>"
      ]
     },
     "execution_count": 21,
     "metadata": {},
     "output_type": "execute_result"
    }
   ],
   "source": [
    "ConcatLayer(temp_scale=x_orig[:, 0].max())(x_test)"
   ]
  },
  {
   "cell_type": "code",
   "execution_count": 22,
   "id": "040c17d2-e3c9-4559-bdc8-39166b785af7",
   "metadata": {},
   "outputs": [
    {
     "data": {
      "image/png": "[encoded data removed]",
      "text/plain": [
       "<Figure size 432x288 with 1 Axes>"
      ]
     },
     "metadata": {
      "needs_background": "light"
     },
     "output_type": "display_data"
    }
   ],
   "source": [
    "# Fit on training data\n",
    "history = linear_model.fit(x=x_train, y=y_train, epochs=300, validation_data=(x_test, y_test), verbose=0,\n",
    "                           callbacks=keras.callbacks.TerminateOnNaN())\n",
    "plt.plot(history.history['loss'])\n",
    "plt.plot(history.history['val_loss'])\n",
    "plt.title('model loss')\n",
    "plt.ylabel('loss')\n",
    "plt.xlabel('epoch')\n",
    "plt.yscale('log')\n",
    "plt.legend(['train', 'val'], loc='upper left')\n",
    "plt.show()"
   ]
  },
  {
   "cell_type": "code",
   "execution_count": 28,
   "id": "d2269d98-7d79-4fcd-b7df-dd03d79de85e",
   "metadata": {},
   "outputs": [
    {
     "data": {
      "text/plain": [
       "<matplotlib.legend.Legend at 0x1bc33c97c48>"
      ]
     },
     "execution_count": 28,
     "metadata": {},
     "output_type": "execute_result"
    },
    {
     "data": {
      "image/png": "[encoded data removed]",
      "text/plain": [
       "<Figure size 648x432 with 1 Axes>"
      ]
     },
     "metadata": {
      "needs_background": "light"
     },
     "output_type": "display_data"
    }
   ],
   "source": [
    "%matplotlib inline\n",
    "import matplotlib.pyplot as plt\n",
    "import pycalphad\n",
    "\n",
    "fig = plt.figure(figsize=(9,6))\n",
    "ax = fig.gca()\n",
    "def plot_at_temp(temp):\n",
    "    x_start = np.array([temp,1e-4, 1-1e-4])\n",
    "    x_end = np.array([temp, 1-1e-4, 1e-4])\n",
    "    x_interp = np.linspace(x_start, x_end, num=50)\n",
    "    model_y = linear_model.predict(x_interp, batch_size=1)\n",
    "    mod = pycalphad.Model(dbf, comps, 'LIQUID')\n",
    "    del mod.models['idmix']\n",
    "    del mod.models['ref']\n",
    "    test_calc = calculate(dbf, comps, 'LIQUID', T=temp, P=1e5, N=1, model=mod, pdens=10)\n",
    "    px_idx = np.argsort(x_interp[:, 1])\n",
    "    px = x_interp[px_idx, 1]\n",
    "    model_py = model_y[px_idx] #(model_y[px_idx] * y_unscaled.std()) #+ y_unscaled.mean()\n",
    "    ax.scatter(px, model_py, label=f'Keras (T={temp})')\n",
    "    ax.scatter(np.squeeze(test_calc.Y.values)[:, 0], np.squeeze(test_calc.GM.values), label=f'pycalphad (T={temp})')\n",
    "#plot_at_temp(300)\n",
    "#plot_at_temp(700)\n",
    "#plot_at_temp(2000)\n",
    "ax.set_xlabel('X(MG)')\n",
    "ax.set_ylabel('GM')\n",
    "ax.legend()"
   ]
  },
  {
   "cell_type": "code",
   "execution_count": 29,
   "id": "21e5c73e-ff43-4387-a22a-5e57032877e6",
   "metadata": {},
   "outputs": [
    {
     "name": "stderr",
     "output_type": "stream",
     "text": [
      "C:\\Users\\rotis\\AppData\\Local\\Continuum\\anaconda3\\envs\\calphad\\lib\\site-packages\\numpy\\lib\\function_base.py:1072: RuntimeWarning: divide by zero encountered in true_divide\n",
      "  a = -(dx2)/(dx1 * (dx1 + dx2))\n",
      "C:\\Users\\rotis\\AppData\\Local\\Continuum\\anaconda3\\envs\\calphad\\lib\\site-packages\\numpy\\lib\\function_base.py:1073: RuntimeWarning: divide by zero encountered in true_divide\n",
      "  b = (dx2 - dx1) / (dx1 * dx2)\n",
      "C:\\Users\\rotis\\AppData\\Local\\Continuum\\anaconda3\\envs\\calphad\\lib\\site-packages\\numpy\\lib\\function_base.py:1074: RuntimeWarning: divide by zero encountered in true_divide\n",
      "  c = dx1 / (dx2 * (dx1 + dx2))\n",
      "C:\\Users\\rotis\\AppData\\Local\\Continuum\\anaconda3\\envs\\calphad\\lib\\site-packages\\numpy\\lib\\function_base.py:1080: RuntimeWarning: invalid value encountered in add\n",
      "  out[tuple(slice1)] = a * f[tuple(slice2)] + b * f[tuple(slice3)] + c * f[tuple(slice4)]\n",
      "C:\\Users\\rotis\\AppData\\Local\\Continuum\\anaconda3\\envs\\calphad\\lib\\site-packages\\numpy\\lib\\function_base.py:1089: RuntimeWarning: invalid value encountered in double_scalars\n",
      "  out[tuple(slice1)] = (f[tuple(slice2)] - f[tuple(slice3)]) / dx_0\n",
      "C:\\Users\\rotis\\AppData\\Local\\Continuum\\anaconda3\\envs\\calphad\\lib\\site-packages\\numpy\\lib\\function_base.py:1096: RuntimeWarning: invalid value encountered in double_scalars\n",
      "  out[tuple(slice1)] = (f[tuple(slice2)] - f[tuple(slice3)]) / dx_n\n"
     ]
    },
    {
     "data": {
      "text/plain": [
       "<matplotlib.legend.Legend at 0x1bc6b069188>"
      ]
     },
     "execution_count": 29,
     "metadata": {},
     "output_type": "execute_result"
    },
    {
     "data": {
      "image/png": "[encoded data removed]",
      "text/plain": [
       "<Figure size 648x432 with 1 Axes>"
      ]
     },
     "metadata": {
      "needs_background": "light"
     },
     "output_type": "display_data"
    }
   ],
   "source": [
    "%matplotlib inline\n",
    "import matplotlib.pyplot as plt\n",
    "\n",
    "fig = plt.figure(figsize=(9,6))\n",
    "ax = fig.gca()\n",
    "def plot_gradient_at_temp(temp):\n",
    "    x_start = np.array([temp,1e-4, 1-1e-4])\n",
    "    x_end = np.array([temp, 1-1e-4, 1e-4])\n",
    "    x_interp = np.linspace(x_start, x_end, num=200)\n",
    "    model_y = linear_model.predict(x_interp, batch_size=1)\n",
    "    mod = pycalphad.Model(dbf, comps, 'LIQUID')\n",
    "    del mod.models['idmix']\n",
    "    del mod.models['ref']\n",
    "    test_calc = calculate(dbf, comps, 'LIQUID', T=temp, P=1e5, N=1, model=mod, pdens=100)\n",
    "    px_idx = np.argsort(x_interp[:, 1])\n",
    "    px = x_interp[px_idx, 1]\n",
    "    model_py = model_y[px_idx] #(model_y[px_idx] * y_unscaled.std())# + y_unscaled.mean()\n",
    "    ax.plot(px, np.gradient(model_py, px), label=f'Keras (T={temp})')\n",
    "    px_idx = np.argsort(np.squeeze(test_calc.Y.values)[:,0])\n",
    "    px = np.squeeze(test_calc.Y.values)[:, 0][px_idx]\n",
    "    ax.plot(px, np.gradient(np.squeeze(test_calc.GM.values)[px_idx], px), label=f'pycalphad (T={temp})')\n",
    "#plot_gradient_at_temp(300)\n",
    "#plot_gradient_at_temp(700)\n",
    "plot_gradient_at_temp(1500)\n",
    "ax.set_xlabel('X(MG)')\n",
    "ax.set_ylabel('GM.Y0')\n",
    "ax.legend()"
   ]
  },
  {
   "cell_type": "code",
   "execution_count": 25,
   "id": "ac880011-6053-4e5f-b33a-71f41b594ea8",
   "metadata": {},
   "outputs": [],
   "source": [
    "layer_outputs = [layer.output for layer in linear_model.layers] \n",
    "# Creates a model that will return these outputs, given the model input\n",
    "activation_model = Model(inputs=linear_model.input, outputs=layer_outputs)"
   ]
  },
  {
   "cell_type": "code",
   "execution_count": 33,
   "id": "e88dc70e-4988-491a-85e5-54815fa364be",
   "metadata": {},
   "outputs": [
    {
     "data": {
      "text/plain": [
       "<matplotlib.legend.Legend at 0x1bc6b2ebe88>"
      ]
     },
     "execution_count": 33,
     "metadata": {},
     "output_type": "execute_result"
    },
    {
     "data": {
      "image/png": "[encoded data removed]",
      "text/plain": [
       "<Figure size 432x288 with 1 Axes>"
      ]
     },
     "metadata": {
      "needs_background": "light"
     },
     "output_type": "display_data"
    }
   ],
   "source": [
    "temp = 300\n",
    "x_start = np.array([temp,1e-4, 1-1e-4])\n",
    "x_end = np.array([temp, 1-1e-4, 1e-4])\n",
    "x_interp = np.linspace(x_start, x_end, num=100)\n",
    "activations = activation_model.predict(x_interp)\n",
    "[plt.plot(x_interp[:,1], act, label=idx) for idx, act in enumerate(activations[5].T)]\n",
    "plt.legend(loc='lower left')"
   ]
  },
  {
   "cell_type": "code",
   "execution_count": 27,
   "id": "9b831563-94ac-4374-94eb-906e4868a041",
   "metadata": {},
   "outputs": [
    {
     "data": {
      "text/plain": [
       "[<tf.Variable 'polynomial_crossing_3/kernel:0' shape=(3, 3) dtype=float32, numpy=\n",
       " array([[-0.17866641, -0.33774185, -0.8169042 ],\n",
       "        [-0.95376486, -1.1285014 ,  1.1325346 ],\n",
       "        [-0.29680535, -1.8683472 ,  0.46137214]], dtype=float32)>,\n",
       " <tf.Variable 'polynomial_crossing_4/kernel:0' shape=(3, 3) dtype=float32, numpy=\n",
       " array([[-0.35113966, -0.43693608, -0.6013964 ],\n",
       "        [-0.8488886 , -1.0096786 , -0.58261645],\n",
       "        [-0.57621455, -2.1539543 , -0.17720616]], dtype=float32)>,\n",
       " <tf.Variable 'polynomial_crossing_5/kernel:0' shape=(3, 3) dtype=float32, numpy=\n",
       " array([[-0.914348  , -0.09098158, -1.3162526 ],\n",
       "        [ 0.63949513,  0.59019995, -0.04318454],\n",
       "        [-0.39002734, -1.8271102 , -0.83536106]], dtype=float32)>,\n",
       " <tf.Variable 'polynomial_crossing_6/kernel:0' shape=(3, 3) dtype=float32, numpy=\n",
       " array([[-0.5922046 , -0.83005923, -1.1084191 ],\n",
       "        [-0.87419015,  0.27570698,  1.3723267 ],\n",
       "        [-0.8338283 , -1.2845911 , -0.9456538 ]], dtype=float32)>]"
      ]
     },
     "execution_count": 27,
     "metadata": {},
     "output_type": "execute_result"
    }
   ],
   "source": [
    "linear_model.weights"
   ]
  },
  {
   "cell_type": "code",
   "execution_count": null,
   "id": "aa1d0eed-3b6d-47bd-84df-1258f10215c1",
   "metadata": {},
   "outputs": [],
   "source": []
  },
  {
   "cell_type": "code",
   "execution_count": null,
   "id": "7232532b-7c38-466f-8b0d-394ba2a62061",
   "metadata": {},
   "outputs": [],
   "source": []
  }
 ],
 "metadata": {
  "kernelspec": {
   "display_name": "Python 3 (ipykernel)",
   "language": "python",
   "name": "python3"
  },
  "language_info": {
   "codemirror_mode": {
    "name": "ipython",
    "version": 3
   },
   "file_extension": ".py",
   "mimetype": "text/x-python",
   "name": "python",
   "nbconvert_exporter": "python",
   "pygments_lexer": "ipython3",
   "version": "3.7.8"
  }
 },
 "nbformat": 4,
 "nbformat_minor": 5
}
