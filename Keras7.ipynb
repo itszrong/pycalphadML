{
 "cells": [
  {
   "cell_type": "code",
   "execution_count": 39,
   "id": "cfce059a-f701-4aad-afd2-f66ea5ceb1a2",
   "metadata": {},
   "outputs": [],
   "source": [
    "from tensorflow import keras\n",
    "import tensorflow as tf\n",
    "import tensorflow_addons as tfa\n",
    "from keras.models import Input, Model\n",
    "from keras.layers import Dense, Layer\n",
    "from pycalphad import Database, calculate, variables as v\n",
    "import numpy as np"
   ]
  },
  {
   "cell_type": "code",
   "execution_count": 40,
   "id": "1c1887f6-718e-41a0-830c-716c399b2e8c",
   "metadata": {},
   "outputs": [],
   "source": [
    "dbf = Database('Mg_Si_Zn.tdb')\n",
    "comps = ['MG', 'SI', 'ZN', 'VA']"
   ]
  },
  {
   "cell_type": "code",
   "execution_count": 62,
   "id": "07892989-8a82-4206-a4aa-cbb18e8764fc",
   "metadata": {},
   "outputs": [
    {
     "name": "stdout",
     "output_type": "stream",
     "text": [
      "OrderedDict([('ref', (LIQUID0MG*Piecewise((8202.243 - 8.83693*T - 8.0176e-20*T**7 + Piecewise((-8367.34 + 143.675547*T - 26.1849782*T*log(T) + 78950*T**(-1) + 0.0004858*T**2 - 1.393669e-06*T**3, And(T < 923.0, 298.15 <= T)), (-14130.185 + 204.716215*T - 34.3088*T*log(T) + 1.038192e+28*T**(-9), And(T < 3000.0, 923.0 <= T)), (0, True)), And(T < 923.0, 298.15 <= T)), (8690.316 - 9.392158*T - 1.038192e+28*T**(-9) + Piecewise((-8367.34 + 143.675547*T - 26.1849782*T*log(T) + 78950*T**(-1) + 0.0004858*T**2 - 1.393669e-06*T**3, And(T < 923.0, 298.15 <= T)), (-14130.185 + 204.716215*T - 34.3088*T*log(T) + 1.038192e+28*T**(-9), And(T < 3000.0, 923.0 <= T)), (0, True)), And(T < 6000.0, 923.0 <= T)), (0, True)) + LIQUID0SI*Piecewise((50696.4 - 30.0994*T + 2.09307e-21*T**7 + Piecewise((-8162.609 + 137.236859*T - 22.8317533*T*log(T) + 176667*T**(-1) - 0.001912904*T**2 - 3.552e-09*T**3, And(T < 1687.0, 298.15 <= T)), (-9457.642 + 167.281367*T - 27.196*T*log(T) - 4.20369e+30*T**(-9), And(T < 3600.0, 1687.0 <= T)), (0, True)), And(T < 1687.0, 298.15 <= T)), (49828.2 - 29.5591*T + 4.20369e+30*T**(-9) + Piecewise((-8162.609 + 137.236859*T - 22.8317533*T*log(T) + 176667*T**(-1) - 0.001912904*T**2 - 3.552e-09*T**3, And(T < 1687.0, 298.15 <= T)), (-9457.642 + 167.281367*T - 27.196*T*log(T) - 4.20369e+30*T**(-9), And(T < 3600.0, 1687.0 <= T)), (0, True)), And(T < 6000.0, 1687.0 <= T)), (0, True)) + LIQUID0ZN*Piecewise((-128.574 + 108.177079*T - 23.701314*T*log(T) - 0.001712034*T**2 - 1.264963e-06*T**3 - 3.58958e-19*T**7, And(T < 692.68, 298.15 <= T)), (-3620.391 + 161.608594*T - 31.38*T*log(T), And(T < 1700.0, 692.68 <= T)), (0, True)))*1.0/(LIQUID0MG + LIQUID0SI + LIQUID0ZN)), ('idmix', T*(1.0*Piecewise((LIQUID0MG*log(LIQUID0MG), 1e-15 < LIQUID0MG), (0, True)) + 1.0*Piecewise((LIQUID0SI*log(LIQUID0SI), 1e-15 < LIQUID0SI), (0, True)) + 1.0*Piecewise((LIQUID0ZN*log(LIQUID0ZN), 1e-15 < LIQUID0ZN), (0, True)))*8.3145/(LIQUID0MG + LIQUID0SI + LIQUID0ZN)), ('xsmix', 1.0*(7829.25*LIQUID0SI*LIQUID0ZN + LIQUID0MG*LIQUID0SI*(-70055 + 24.98*T) + LIQUID0MG*LIQUID0ZN*(-77729.24 + 680.52266*T - 95*T*log(T) + 0.04*T**2) - 1300*(LIQUID0MG - LIQUID0SI)*LIQUID0MG*LIQUID0SI + 6272*(LIQUID0MG - LIQUID0SI)**2*LIQUID0MG*LIQUID0SI - 1588.15*(LIQUID0MG - LIQUID0ZN)**2*LIQUID0MG*LIQUID0ZN - 3338.18*(LIQUID0SI - LIQUID0ZN)*LIQUID0SI*LIQUID0ZN - 891.33*(LIQUID0SI - LIQUID0ZN)**2*LIQUID0SI*LIQUID0ZN + (LIQUID0MG - LIQUID0ZN)*LIQUID0MG*LIQUID0ZN*(3674.72 + 0.57139*T) + LIQUID0MG*LIQUID0SI*LIQUID0ZN*(LIQUID0MG + (1/3)*(1 - (LIQUID0MG + LIQUID0SI + LIQUID0ZN)))*(-118047.9 + 91.62*T) + LIQUID0MG*LIQUID0SI*LIQUID0ZN*(LIQUID0SI + (1/3)*(1 - (LIQUID0MG + LIQUID0SI + LIQUID0ZN)))*(-118047.9 + 91.62*T) + LIQUID0MG*LIQUID0SI*LIQUID0ZN*(LIQUID0ZN + (1/3)*(1 - (LIQUID0MG + LIQUID0SI + LIQUID0ZN)))*(-118047.9 + 91.62*T))/(LIQUID0MG + LIQUID0SI + LIQUID0ZN)), ('mag', 0), ('2st', 0), ('ein', 0.0), ('ord', 0)])\n"
     ]
    }
   ],
   "source": [
    "import pycalphad\n",
    "mod = pycalphad.Model(dbf, comps, 'LIQUID')\n",
    "#del mod.models['idmix']\n",
    "#del mod.models['ref']\n",
    "print(mod.models)\n",
    "res = calculate(dbf, comps, 'LIQUID', T=(300, 1600, 10), P=1e5, N=1, model=mod, pdens=10)"
   ]
  },
  {
   "cell_type": "code",
   "execution_count": 63,
   "id": "821379b1-df1f-4659-b77d-6dcc707c04c9",
   "metadata": {},
   "outputs": [
    {
     "data": {
      "text/plain": [
       "<matplotlib.collections.PathCollection at 0x2143eca33c8>"
      ]
     },
     "execution_count": 63,
     "metadata": {},
     "output_type": "execute_result"
    },
    {
     "data": {
      "image/png": "[encoded data removed]",
      "text/plain": [
       "<Figure size 432x288 with 1 Axes>"
      ]
     },
     "metadata": {
      "needs_background": "light"
     },
     "output_type": "display_data"
    }
   ],
   "source": [
    "%matplotlib inline\n",
    "import matplotlib.pyplot as plt\n",
    "plt.scatter(res.Y[..., 0], res.GM)"
   ]
  },
  {
   "cell_type": "code",
   "execution_count": 64,
   "id": "33fefcb4-b5cb-4cef-8cca-87a1f87b87d3",
   "metadata": {},
   "outputs": [
    {
     "name": "stdout",
     "output_type": "stream",
     "text": [
      "(1, 1, 130, 53, 3)\n"
     ]
    }
   ],
   "source": [
    "site_fractions = res.Y.values\n",
    "print(site_fractions.shape)"
   ]
  },
  {
   "cell_type": "code",
   "execution_count": 65,
   "id": "c2064167-d3be-434d-943c-62bb464e51e7",
   "metadata": {},
   "outputs": [
    {
     "name": "stdout",
     "output_type": "stream",
     "text": [
      "(20670, 7)\n"
     ]
    },
    {
     "name": "stderr",
     "output_type": "stream",
     "text": [
      "C:\\Users\\rotis\\AppData\\Local\\Continuum\\anaconda3\\envs\\calphad\\lib\\site-packages\\pandas\\core\\generic.py:4150: PerformanceWarning: dropping on a non-lexsorted multi-index without a level parameter may impact performance.\n",
      "  obj = obj._drop_axis(labels, axis, level=level, errors=errors)\n"
     ]
    }
   ],
   "source": [
    "filtered = res.drop_vars('component').to_dataframe()[['Y', 'GM']] \\\n",
    "                .unstack('internal_dof')\\\n",
    "                .droplevel(level='component')\\\n",
    "                .drop_duplicates()\\\n",
    "                .reset_index()\\\n",
    "                .drop(columns=['N', 'P', 'points'])\n",
    "filtered = res.drop_vars('component').to_dataframe()[['Y', 'GM']] \\\n",
    "                .unstack('internal_dof')\\\n",
    "                .droplevel(level='component')\\\n",
    "                .reset_index().drop(columns=['N', 'P', 'points'])\n",
    "print(filtered.shape)\n",
    "# Not sure how to fix the duplicate energy column yet\n",
    "filtered = filtered.values[:, :1+site_fractions.shape[-1]+1]\n",
    "x_orig = filtered[:, :-1]\n",
    "y_orig = filtered[:, -1]"
   ]
  },
  {
   "cell_type": "code",
   "execution_count": 66,
   "id": "984b23a8-eae0-415e-a539-a6eba4f0d8ec",
   "metadata": {},
   "outputs": [
    {
     "data": {
      "text/plain": [
       "array([[ 3.00000000e+02,  1.00000000e+00,  1.00000000e-14,\n",
       "         1.00000000e-14, -4.25029576e+03],\n",
       "       [ 3.00000000e+02,  1.00000000e+00,  1.00000000e-14,\n",
       "         1.00000000e-14, -4.25029576e+03],\n",
       "       [ 3.00000000e+02,  1.00000000e+00,  1.00000000e-14,\n",
       "         1.00000000e-14, -4.25029576e+03],\n",
       "       ...,\n",
       "       [ 1.59000000e+03,  3.73514633e-01,  1.99856959e-01,\n",
       "         4.26628408e-01, -1.12834275e+05],\n",
       "       [ 1.59000000e+03,  3.73514633e-01,  1.99856959e-01,\n",
       "         4.26628408e-01, -1.12834275e+05],\n",
       "       [ 1.59000000e+03,  3.73514633e-01,  1.99856959e-01,\n",
       "         4.26628408e-01, -1.12834275e+05]])"
      ]
     },
     "execution_count": 66,
     "metadata": {},
     "output_type": "execute_result"
    }
   ],
   "source": [
    "filtered"
   ]
  },
  {
   "cell_type": "code",
   "execution_count": 67,
   "id": "d87310a7-aa89-46aa-9a81-071d4ecf0479",
   "metadata": {},
   "outputs": [],
   "source": [
    "class ConcatLayer(Layer):\n",
    "    def __init__(self, temp_scale=1.0):\n",
    "        super().__init__()\n",
    "        self.temp_scale = float(temp_scale)\n",
    "    def call(self, inputs):\n",
    "        scaled_inputs = inputs * tf.constant([1./self.temp_scale, 1.0, 1.0, 1.0])\n",
    "        return scaled_inputs\n",
    "        #return tf.concat([scaled_inputs, tf.math.log(scaled_inputs[..., :1])], axis=-1)"
   ]
  },
  {
   "cell_type": "code",
   "execution_count": 68,
   "id": "a7f7297a-5362-4864-9758-f1da9af50190",
   "metadata": {},
   "outputs": [
    {
     "name": "stdout",
     "output_type": "stream",
     "text": [
      "Number of training points:  20670\n",
      "Number of features:  4\n"
     ]
    }
   ],
   "source": [
    "from sklearn.model_selection import train_test_split\n",
    "from keras.layers import Dropout\n",
    "from tensorflow_addons.layers import PolynomialCrossing\n",
    "\n",
    "x = x_orig.copy()\n",
    "#x[:, 0] /= x_orig[:, 0].std()\n",
    "print('Number of training points: ', x.shape[0])\n",
    "y_unscaled = y_orig #- 8.3145 * x_orig[:, 0] * (x_orig[:, 1] * np.log(x_orig[:, 1]) + x[:, 2] * np.log(x_orig[:, 2]))\n",
    "y = y_unscaled #/ y_unscaled.std() # (y_unscaled - y_unscaled.mean())/y_unscaled.std()\n",
    "print('Number of features: ', x.shape[1])\n",
    "\n",
    "x_train, x_test, y_train, y_test = train_test_split(x, y, test_size=0.1, random_state=1769)\n",
    "inputs = Input(shape=(x.shape[1],))\n",
    "x0 = ConcatLayer(temp_scale=x_orig[:, 0].max())(inputs)\n",
    "#x0 = inputs\n",
    "#x0 = BatchNormalization()(x0)\n",
    "output = PolynomialCrossing(projection_dim=None, use_bias=False)((x0, x0))\n",
    "output = PolynomialCrossing(projection_dim=None, use_bias=False)((Dropout(0)(x0), output))\n",
    "output = PolynomialCrossing(projection_dim=None, use_bias=False)((Dropout(0)(x0), output))\n",
    "output = PolynomialCrossing(projection_dim=None, use_bias=False)((Dropout(0)(x0), output))\n",
    "\n",
    "output = y_unscaled.std() * tf.math.reduce_sum(output, axis=-1) + \\\n",
    "    8.3145*inputs[...,0] * (inputs[...,1]*tf.math.log(inputs[...,1]) + inputs[...,2]*tf.math.log(inputs[...,2]))\n",
    "linear_model = Model(inputs, output)\n",
    "#linear_model.compile(optimizer=keras.optimizers.SGD(learning_rate=1e-2, momentum=0.9, nesterov=True), loss='mse')\n",
    "linear_model.compile(optimizer='adam', loss='mae')"
   ]
  },
  {
   "cell_type": "code",
   "execution_count": 69,
   "id": "eec76149-5ff6-4cea-8d51-5eb341123559",
   "metadata": {},
   "outputs": [
    {
     "data": {
      "text/plain": [
       "<tf.Tensor: shape=(2067, 4), dtype=float32, numpy=\n",
       "array([[3.8993710e-01, 2.1171974e-01, 5.5008870e-01, 2.3819157e-01],\n",
       "       [2.8930816e-01, 2.1171974e-01, 5.5008870e-01, 2.3819157e-01],\n",
       "       [4.7169811e-01, 3.4401020e-01, 2.0123306e-01, 4.5475674e-01],\n",
       "       ...,\n",
       "       [4.2138365e-01, 1.1111111e-01, 9.9999998e-15, 8.8888890e-01],\n",
       "       [7.6100630e-01, 2.6127702e-01, 2.6316660e-02, 7.1240634e-01],\n",
       "       [5.4088050e-01, 5.5555558e-01, 9.9999998e-15, 4.4444445e-01]],\n",
       "      dtype=float32)>"
      ]
     },
     "execution_count": 69,
     "metadata": {},
     "output_type": "execute_result"
    }
   ],
   "source": [
    "ConcatLayer(temp_scale=x_orig[:, 0].max())(x_test)"
   ]
  },
  {
   "cell_type": "code",
   "execution_count": 70,
   "id": "040c17d2-e3c9-4559-bdc8-39166b785af7",
   "metadata": {},
   "outputs": [
    {
     "data": {
      "image/png": "[encoded data removed]",
      "text/plain": [
       "<Figure size 432x288 with 1 Axes>"
      ]
     },
     "metadata": {
      "needs_background": "light"
     },
     "output_type": "display_data"
    }
   ],
   "source": [
    "# Fit on training data\n",
    "history = linear_model.fit(x=x_train, y=y_train, epochs=300, validation_data=(x_test, y_test), verbose=0,\n",
    "                           callbacks=keras.callbacks.TerminateOnNaN())\n",
    "plt.plot(history.history['loss'])\n",
    "plt.plot(history.history['val_loss'])\n",
    "plt.title('model loss')\n",
    "plt.ylabel('loss')\n",
    "plt.xlabel('epoch')\n",
    "plt.yscale('log')\n",
    "plt.legend(['train', 'val'], loc='upper left')\n",
    "plt.show()"
   ]
  },
  {
   "cell_type": "code",
   "execution_count": 74,
   "id": "7e2a9184-c50b-4ddd-b2f8-ac64f22be901",
   "metadata": {},
   "outputs": [
    {
     "data": {
      "text/plain": [
       "<matplotlib.legend.Legend at 0x21439877f08>"
      ]
     },
     "execution_count": 74,
     "metadata": {},
     "output_type": "execute_result"
    },
    {
     "data": {
      "image/png": "[encoded data removed]",
      "text/plain": [
       "<Figure size 648x432 with 1 Axes>"
      ]
     },
     "metadata": {
      "needs_background": "light"
     },
     "output_type": "display_data"
    }
   ],
   "source": [
    "%matplotlib inline\n",
    "import matplotlib.pyplot as plt\n",
    "import pycalphad\n",
    "\n",
    "fig = plt.figure(figsize=(9,6))\n",
    "ax = fig.gca()\n",
    "def plot_at_composition(x_mg, x_si):\n",
    "    x_start = np.array([300,x_mg, x_si, 1-(x_mg+x_si)])\n",
    "    x_end = np.array([1600, x_mg, x_si, 1-(x_mg+x_si)])\n",
    "    x_interp = np.linspace(x_start, x_end, num=50)\n",
    "    model_y = linear_model.predict(x_interp, batch_size=1)\n",
    "    mod = pycalphad.Model(dbf, comps, 'LIQUID')\n",
    "    #del mod.models['idmix']\n",
    "    #del mod.models['ref']\n",
    "    test_calc = calculate(dbf, comps, 'LIQUID',model=mod, T=x_interp[:,0], N=1, P=1e5,\n",
    "                          points=[[x_mg, x_si, 1-(x_mg+x_si)]])\n",
    "    #test_calc\n",
    "    ax.plot(x_interp[:,0], model_y, label=f'Keras (X_MG={x_mg},X_SI={x_si})')\n",
    "    ax.plot(x_interp[:,0], np.squeeze(test_calc.GM.values),\n",
    "            label=f'pycalphad (X_MG={x_mg},X_SI={x_si})')\n",
    "#plot_at_composition(0.2)\n",
    "#plot_at_composition(0.4)\n",
    "plot_at_composition(0.6, 0.3)\n",
    "ax.set_xlabel('T')\n",
    "ax.set_ylabel('GM')\n",
    "ax.legend()"
   ]
  },
  {
   "cell_type": "code",
   "execution_count": 73,
   "id": "9b831563-94ac-4374-94eb-906e4868a041",
   "metadata": {},
   "outputs": [
    {
     "data": {
      "text/plain": [
       "[<tf.Variable 'polynomial_crossing_8/kernel:0' shape=(4, 4) dtype=float32, numpy=\n",
       " array([[-1.0545591 , -1.0200067 , -0.00393745,  0.28901032],\n",
       "        [ 0.73092175, -0.8350318 ,  0.03180716, -0.202461  ],\n",
       "        [-0.15987669, -1.1538091 , -0.35042185,  0.9477089 ],\n",
       "        [-0.08274496, -0.16618773,  0.75324005,  0.11477242]],\n",
       "       dtype=float32)>,\n",
       " <tf.Variable 'polynomial_crossing_9/kernel:0' shape=(4, 4) dtype=float32, numpy=\n",
       " array([[-0.04147403, -0.28857538,  0.33738637,  0.35429972],\n",
       "        [-0.36763924,  0.07197974, -0.9557561 , -0.65445477],\n",
       "        [-0.7263931 , -0.21570161,  1.1577507 , -0.22284882],\n",
       "        [-0.82027745, -1.1685311 , -1.06229   , -0.03131668]],\n",
       "       dtype=float32)>,\n",
       " <tf.Variable 'polynomial_crossing_10/kernel:0' shape=(4, 4) dtype=float32, numpy=\n",
       " array([[-0.15582165, -0.710211  , -0.3925867 ,  0.01204711],\n",
       "        [ 0.48189127,  0.19010922, -0.3327616 , -1.5216322 ],\n",
       "        [-0.6062859 , -0.3939067 ,  0.11440527, -0.82211727],\n",
       "        [-0.6606844 , -1.5063156 ,  0.08210534,  0.24469532]],\n",
       "       dtype=float32)>,\n",
       " <tf.Variable 'polynomial_crossing_11/kernel:0' shape=(4, 4) dtype=float32, numpy=\n",
       " array([[ 0.06987116, -0.2176148 ,  0.501958  ,  0.35151666],\n",
       "        [ 0.70916885, -0.12046142,  0.32384327, -0.36805815],\n",
       "        [-0.75834155, -0.57229435, -0.0382055 ,  0.05761803],\n",
       "        [-0.5420305 , -0.7984729 , -0.0885845 , -0.892635  ]],\n",
       "       dtype=float32)>]"
      ]
     },
     "execution_count": 73,
     "metadata": {},
     "output_type": "execute_result"
    }
   ],
   "source": [
    "linear_model.weights"
   ]
  },
  {
   "cell_type": "code",
   "execution_count": null,
   "id": "c352639f-2ff4-4446-8ccc-c35294a40afc",
   "metadata": {},
   "outputs": [],
   "source": []
  }
 ],
 "metadata": {
  "kernelspec": {
   "display_name": "Python 3 (ipykernel)",
   "language": "python",
   "name": "python3"
  },
  "language_info": {
   "codemirror_mode": {
    "name": "ipython",
    "version": 3
   },
   "file_extension": ".py",
   "mimetype": "text/x-python",
   "name": "python",
   "nbconvert_exporter": "python",
   "pygments_lexer": "ipython3",
   "version": "3.7.8"
  }
 },
 "nbformat": 4,
 "nbformat_minor": 5
}
