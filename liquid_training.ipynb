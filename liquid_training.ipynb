{
 "cells": [
  {
   "cell_type": "code",
   "execution_count": 1,
   "metadata": {},
   "outputs": [
    {
     "name": "stdout",
     "output_type": "stream",
     "text": [
      "(60,)\n"
     ]
    }
   ],
   "source": [
    "from neural import fit_surrogate\n",
    "import numpy as np\n",
    "import pycalphad\n",
    "from pycalphad import Database, calculate, variables as v\n",
    "\n",
    "starting_temp = 300\n",
    "max_temp = 600\n",
    "step = 5\n",
    "fine_temps = np.arange(starting_temp, max_temp, step)\n",
    "print(fine_temps.shape)\n",
    "dbf = Database('Mg_Si_Zn.tdb')\n",
    "comps = ['MG', 'SI', 'ZN', 'VA']\n",
    "\n",
    "pts = np.array([[[0.3, 0.3, 0.4]]])\n",
    "\n",
    "res = calculate(dbf, comps, 'LIQUID', T=fine_temps, P=1e5, N=1, pdens=10, output='GM', points=pts)\n",
    "data = res.GM\n",
    "data = data[0,0,:,:]"
   ]
  },
  {
   "cell_type": "code",
   "execution_count": null,
   "metadata": {},
   "outputs": [],
   "source": [
    "  res = calculate(dbf, comps, phase_name, T=temp_range, P=1e5, N=1, model=mod, pdens=10)\n",
    "    print('test6')\n",
    "    # Get resulting data into tabular form\n",
    "    filtered = res.drop_vars('component').to_dataframe()[['Y', 'GM']] \\\n",
    "                    .unstack('internal_dof')\\\n",
    "                    .droplevel(level='component')\\\n",
    "                    .reset_index().drop(columns=['N', 'P', 'points'])\n",
    "    # Not sure how to fix the duplicate energy column yet\n",
    "    site_fractions = res.Y.values\n",
    "    filtered = filtered.values[:, :1+site_fractions.shape[-1]+1]\n",
    "    x_orig = filtered[:, :-1]\n",
    "    y_orig = filtered[:, -1]\n",
    "    # Create Keras Model\n",
    "    sublattice_dof = [len(t) for t in mod.constituents]\n",
    "    temp_scale = x_orig[:, 0].max()\n",
    "    energy_scale = y_orig.std()\n",
    "    ml_model = CalphadPhaseModel(sublattice_dof, mod.site_ratios, name=phase_name,\n",
    "                                 temp_scale=temp_scale, energy_scale=energy_scale)\n",
    "    ml_model.compile(optimizer='adam', loss='mae')\n",
    "    history = ml_model.fit(x=x_orig, y=y_orig, epochs=200, verbose=0, callbacks=keras.callbacks.TerminateOnNaN(), **kwargs)"
   ]
  },
  {
   "cell_type": "code",
   "execution_count": 68,
   "metadata": {},
   "outputs": [
    {
     "name": "stdout",
     "output_type": "stream",
     "text": [
      "(1, 1, 60, 1)\n",
      "y_train shape (60, 1)\n"
     ]
    },
    {
     "ename": "ValueError",
     "evalue": "non-broadcastable output operand with shape (60,1) doesn't match the broadcast shape (60,60)",
     "output_type": "error",
     "traceback": [
      "\u001b[1;31m---------------------------------------------------------------------------\u001b[0m",
      "\u001b[1;31mValueError\u001b[0m                                Traceback (most recent call last)",
      "\u001b[1;32mc:\\Users\\zhenyap\\pycalphad\\liquid_training.ipynb Cell 2\u001b[0m in \u001b[0;36m<cell line: 21>\u001b[1;34m()\u001b[0m\n\u001b[0;32m     <a href='vscode-notebook-cell:/c%3A/Users/zhenyap/pycalphad/liquid_training.ipynb#ch0000001?line=18'>19</a>\u001b[0m \u001b[39mprint\u001b[39m(\u001b[39m'\u001b[39m\u001b[39my_train shape\u001b[39m\u001b[39m'\u001b[39m, y_train\u001b[39m.\u001b[39mshape)\n\u001b[0;32m     <a href='vscode-notebook-cell:/c%3A/Users/zhenyap/pycalphad/liquid_training.ipynb#ch0000001?line=19'>20</a>\u001b[0m GHSERMG \u001b[39m=\u001b[39m \u001b[39m-\u001b[39m\u001b[39m8367.34\u001b[39m\u001b[39m+\u001b[39m\u001b[39m143.675547\u001b[39m\u001b[39m*\u001b[39mT\u001b[39m-\u001b[39m\u001b[39m26.1849782\u001b[39m\u001b[39m*\u001b[39mT\u001b[39m*\u001b[39mnp\u001b[39m.\u001b[39mlog(T)\n\u001b[1;32m---> <a href='vscode-notebook-cell:/c%3A/Users/zhenyap/pycalphad/liquid_training.ipynb#ch0000001?line=20'>21</a>\u001b[0m y_train \u001b[39m+\u001b[39m\u001b[39m=\u001b[39m GHSERMG\n\u001b[0;32m     <a href='vscode-notebook-cell:/c%3A/Users/zhenyap/pycalphad/liquid_training.ipynb#ch0000001?line=21'>22</a>\u001b[0m GHSERMG \u001b[39m=\u001b[39m \u001b[39m-\u001b[39m\u001b[39m8367.34\u001b[39m\u001b[39m+\u001b[39m\u001b[39m143.675547\u001b[39m\u001b[39m*\u001b[39mT\u001b[39m-\u001b[39m\u001b[39m26.1849782\u001b[39m\u001b[39m*\u001b[39mT\u001b[39m*\u001b[39mnp\u001b[39m.\u001b[39mlog(T)\n\u001b[0;32m     <a href='vscode-notebook-cell:/c%3A/Users/zhenyap/pycalphad/liquid_training.ipynb#ch0000001?line=22'>23</a>\u001b[0m GHSERSI \u001b[39m=\u001b[39m \u001b[39m-\u001b[39m\u001b[39m8162.609\u001b[39m\u001b[39m+\u001b[39m\u001b[39m137.236859\u001b[39m\u001b[39m*\u001b[39mT\u001b[39m-\u001b[39m\u001b[39m22.8317533\u001b[39m\u001b[39m*\u001b[39mT\u001b[39m*\u001b[39mnp\u001b[39m.\u001b[39mlog(T)\n",
      "File \u001b[1;32mc:\\Users\\zhenyap\\Miniconda3\\envs\\calphad\\lib\\site-packages\\xarray\\core\\_typed_ops.py:287\u001b[0m, in \u001b[0;36mDataArrayOpsMixin.__iadd__\u001b[1;34m(self, other)\u001b[0m\n\u001b[0;32m    286\u001b[0m \u001b[39mdef\u001b[39;00m \u001b[39m__iadd__\u001b[39m(\u001b[39mself\u001b[39m, other):\n\u001b[1;32m--> 287\u001b[0m     \u001b[39mreturn\u001b[39;00m \u001b[39mself\u001b[39;49m\u001b[39m.\u001b[39;49m_inplace_binary_op(other, operator\u001b[39m.\u001b[39;49miadd)\n",
      "File \u001b[1;32mc:\\Users\\zhenyap\\Miniconda3\\envs\\calphad\\lib\\site-packages\\xarray\\core\\dataarray.py:3121\u001b[0m, in \u001b[0;36mDataArray._inplace_binary_op\u001b[1;34m(self, other, f)\u001b[0m\n\u001b[0;32m   3119\u001b[0m \u001b[39mtry\u001b[39;00m:\n\u001b[0;32m   3120\u001b[0m     \u001b[39mwith\u001b[39;00m \u001b[39mself\u001b[39m\u001b[39m.\u001b[39mcoords\u001b[39m.\u001b[39m_merge_inplace(other_coords):\n\u001b[1;32m-> 3121\u001b[0m         f(\u001b[39mself\u001b[39;49m\u001b[39m.\u001b[39;49mvariable, other_variable)\n\u001b[0;32m   3122\u001b[0m \u001b[39mexcept\u001b[39;00m MergeError \u001b[39mas\u001b[39;00m exc:\n\u001b[0;32m   3123\u001b[0m     \u001b[39mraise\u001b[39;00m MergeError(\n\u001b[0;32m   3124\u001b[0m         \u001b[39m\"\u001b[39m\u001b[39mAutomatic alignment is not supported for in-place operations.\u001b[39m\u001b[39m\\n\u001b[39;00m\u001b[39m\"\u001b[39m\n\u001b[0;32m   3125\u001b[0m         \u001b[39m\"\u001b[39m\u001b[39mConsider aligning the indices manually or using a not-in-place operation.\u001b[39m\u001b[39m\\n\u001b[39;00m\u001b[39m\"\u001b[39m\n\u001b[0;32m   3126\u001b[0m         \u001b[39m\"\u001b[39m\u001b[39mSee https://github.com/pydata/xarray/issues/3910 for more explanations.\u001b[39m\u001b[39m\"\u001b[39m\n\u001b[0;32m   3127\u001b[0m     ) \u001b[39mfrom\u001b[39;00m \u001b[39mexc\u001b[39;00m\n",
      "File \u001b[1;32mc:\\Users\\zhenyap\\Miniconda3\\envs\\calphad\\lib\\site-packages\\xarray\\core\\_typed_ops.py:477\u001b[0m, in \u001b[0;36mVariableOpsMixin.__iadd__\u001b[1;34m(self, other)\u001b[0m\n\u001b[0;32m    476\u001b[0m \u001b[39mdef\u001b[39;00m \u001b[39m__iadd__\u001b[39m(\u001b[39mself\u001b[39m, other):\n\u001b[1;32m--> 477\u001b[0m     \u001b[39mreturn\u001b[39;00m \u001b[39mself\u001b[39;49m\u001b[39m.\u001b[39;49m_inplace_binary_op(other, operator\u001b[39m.\u001b[39;49miadd)\n",
      "File \u001b[1;32mc:\\Users\\zhenyap\\Miniconda3\\envs\\calphad\\lib\\site-packages\\xarray\\core\\variable.py:2479\u001b[0m, in \u001b[0;36mVariable._inplace_binary_op\u001b[1;34m(self, other, f)\u001b[0m\n\u001b[0;32m   2477\u001b[0m     \u001b[39mraise\u001b[39;00m \u001b[39mValueError\u001b[39;00m(\u001b[39m\"\u001b[39m\u001b[39mdimensions cannot change for in-place operations\u001b[39m\u001b[39m\"\u001b[39m)\n\u001b[0;32m   2478\u001b[0m \u001b[39mwith\u001b[39;00m np\u001b[39m.\u001b[39merrstate(\u001b[39mall\u001b[39m\u001b[39m=\u001b[39m\u001b[39m\"\u001b[39m\u001b[39mignore\u001b[39m\u001b[39m\"\u001b[39m):\n\u001b[1;32m-> 2479\u001b[0m     \u001b[39mself\u001b[39m\u001b[39m.\u001b[39mvalues \u001b[39m=\u001b[39m f(self_data, other_data)\n\u001b[0;32m   2480\u001b[0m \u001b[39mreturn\u001b[39;00m \u001b[39mself\u001b[39m\n",
      "\u001b[1;31mValueError\u001b[0m: non-broadcastable output operand with shape (60,1) doesn't match the broadcast shape (60,60)"
     ]
    }
   ],
   "source": [
    "import numpy as np\n",
    "import tensorflow as tf\n",
    "from tensorflow.keras.layers import Dense, Activation\n",
    "from tensorflow.keras import Sequential\n",
    "import matplotlib.pyplot as plt\n",
    "import math\n",
    "\n",
    "\n",
    "starting_temp = 300\n",
    "max_temp = 600\n",
    "step = 5\n",
    "fine_temps = np.arange(starting_temp, max_temp, step)\n",
    "\n",
    "x_train=fine_temps\n",
    "T = x_train\n",
    "y_train = calculate(dbf, comps, 'LIQUID', T=T, P=1e5, N=1, pdens=10, output='GM', points=pts)\n",
    "print(y_train.GM.shape)\n",
    "y_train = y_train.GM[0,0,:]\n",
    "print('y_train shape', y_train.shape)\n",
    "GHSERMG = -8367.34+143.675547*T-26.1849782*T*np.log(T)\n",
    "y_train += GHSERMG\n",
    "GHSERMG = -8367.34+143.675547*T-26.1849782*T*np.log(T)\n",
    "GHSERSI = -8162.609+137.236859*T-22.8317533*T*np.log(T)\n",
    "GHSERZN = -7285.787+118.470069*T-23.701314*T*np.log(T)\n",
    "y_train -= (y_train[:, 1] * GHSERMG + y_train[:, 2] * GHSERSI + y_train[:, 3] * GHSERZN)\n",
    "x_train=x_train.reshape(len(x_train),1)\n",
    "\n",
    "starting_temp = 500\n",
    "max_temp_test = 800\n",
    "step = 1\n",
    "fine_temps_test = np.arange(starting_temp, max_temp_test, step)\n",
    "print(fine_temps.shape)\n",
    "\n",
    "\n",
    "x_test=fine_temps_test\n",
    "T = x_test\n",
    "y_test=8202.243-8.83693*T-8.0176E-20*T**7\n",
    "GHSERMG = -8367.34+143.675547*T-26.1849782*T*np.log(T)\n",
    "GHSERSI = -8162.609+137.236859*T-22.8317533*T*np.log(T)\n",
    "GHSERZN = -7285.787+118.470069*T-23.701314*T*np.log(T)\n",
    "y_test -= (x_test[:, 1] * GHSERMG + x_test[:, 2] * GHSERSI + x_test[:, 3] * GHSERZN)\n",
    "x_test=x_test.reshape(len(x_test),1)\n",
    "\n",
    "print('Train')\n",
    "model = Sequential()\n",
    "model.add(Dense(units=200, input_dim=1))\n",
    "model.add(Activation('relu'))\n",
    "model.add(Dense(units=45))\n",
    "model.add(Activation('relu'))\n",
    "model.add(Dense(units=1))\n",
    "\n",
    "model.compile(loss='mean_squared_error',\n",
    "              optimizer='sgd')\n",
    "\n",
    "model.fit(x_train, y_train, epochs=40, batch_size=50, verbose=0)\n",
    "\n",
    "loss_and_metrics = model.evaluate(x_test, y_test, batch_size=10)\n",
    "\n",
    "classes = model.predict(x_test, batch_size=1)\n",
    "\n",
    "test=x_test.reshape(-1)\n",
    "plt.plot(test,y_test,c='r')\n",
    "plt.plot(test,classes,c='b')\n",
    "plt.xlabel('Temperatures')\n",
    "plt.ylabel('GM values')\n",
    "plt.show()\n",
    "\n",
    "plt.plot(test,y_test,c='r')\n",
    "plt.plot(test,loss_and_metrics,c='b')\n",
    "plt.xlabel('Epochs')\n",
    "plt.ylabel('Loss')\n",
    "plt.show()"
   ]
  },
  {
   "cell_type": "code",
   "execution_count": 66,
   "metadata": {},
   "outputs": [
    {
     "data": {
      "text/plain": [
       "nan"
      ]
     },
     "execution_count": 66,
     "metadata": {},
     "output_type": "execute_result"
    }
   ],
   "source": [
    "loss_and_metrics"
   ]
  },
  {
   "cell_type": "code",
   "execution_count": 43,
   "metadata": {},
   "outputs": [
    {
     "name": "stdout",
     "output_type": "stream",
     "text": [
      "(60,)\n",
      "2/2 [==============================] - 0s 3ms/step\n"
     ]
    },
    {
     "data": {
      "text/plain": [
       "(60,)"
      ]
     },
     "execution_count": 43,
     "metadata": {},
     "output_type": "execute_result"
    }
   ],
   "source": [
    "import tensorflow as tf\n",
    "\n",
    "tt, xx = np.broadcast_arrays(fine_temps[:, np.newaxis], np.squeeze(pts)[np.newaxis])\n",
    "inputs = np.concatenate((fine_temps[np.newaxis].T, xx), axis=1)\n",
    "# gradients = tf.gradients(model.predict(inputs), inputs)\n",
    "print(inputs[:,0].shape)\n",
    "gm_ml = model.predict(inputs[:,0])\n",
    "sm_ml = -np.gradient(gm_ml[:,0], fine_temps)\n",
    "product = fine_temps * sm_ml.T\n",
    "hm_ml = gm_ml[:,0] + fine_temps * sm_ml.T\n",
    "hm_ml.shape"
   ]
  },
  {
   "cell_type": "code",
   "execution_count": 44,
   "metadata": {},
   "outputs": [
    {
     "data": {
      "text/plain": [
       "(60,)"
      ]
     },
     "execution_count": 44,
     "metadata": {},
     "output_type": "execute_result"
    }
   ],
   "source": [
    "res = calculate(dbf, comps, 'LIQUID', T=fine_temps, P=1e5, N=1, pdens=10, output='HM', points=pts)\n",
    "resHM = res.HM\n",
    "resHM = resHM[0,0,:,0]\n",
    "resHM.shape"
   ]
  },
  {
   "cell_type": "code",
   "execution_count": 46,
   "metadata": {},
   "outputs": [
    {
     "data": {
      "image/png": "[encoded data removed]",
      "text/plain": [
       "<Figure size 432x288 with 1 Axes>"
      ]
     },
     "metadata": {
      "needs_background": "light"
     },
     "output_type": "display_data"
    }
   ],
   "source": [
    "error = resHM - hm_ml\n",
    "error.shape\n",
    "plt.plot(fine_temps, error, label='error')\n",
    "plt.ylabel('error HM.T')\n",
    "plt.xlabel('T')\n",
    "plt.legend()\n",
    "plt.savefig('liquid-Deep-error-above900.png')"
   ]
  },
  {
   "cell_type": "code",
   "execution_count": 37,
   "metadata": {},
   "outputs": [
    {
     "data": {
      "image/png": "[encoded data removed]",
      "text/plain": [
       "<Figure size 432x288 with 1 Axes>"
      ]
     },
     "metadata": {
      "needs_background": "light"
     },
     "output_type": "display_data"
    }
   ],
   "source": [
    "plt.plot(fine_temps[2:-2], hm_ml[2:-2], label='Keras')\n",
    "plt.plot(fine_temps[2:-2], resHM[2:-2], label='pycalphad')\n",
    "plt.ylabel('HM.T')\n",
    "plt.xlabel('T')\n",
    "plt.legend()\n",
    "plt.savefig('liquid-NN-comparison.png')"
   ]
  }
 ],
 "metadata": {
  "kernelspec": {
   "display_name": "Python 3.10.4 ('calphad')",
   "language": "python",
   "name": "python3"
  },
  "language_info": {
   "codemirror_mode": {
    "name": "ipython",
    "version": 3
   },
   "file_extension": ".py",
   "mimetype": "text/x-python",
   "name": "python",
   "nbconvert_exporter": "python",
   "pygments_lexer": "ipython3",
   "version": "3.10.4"
  },
  "orig_nbformat": 4,
  "vscode": {
   "interpreter": {
    "hash": "818be52fc3e67187423b156bcc805b3603ed8f46451ea39369ad69a186d5bd38"
   }
  }
 },
 "nbformat": 4,
 "nbformat_minor": 2
}
