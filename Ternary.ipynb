{
 "cells": [
  {
   "cell_type": "code",
   "execution_count": 13,
   "metadata": {},
   "outputs": [],
   "source": [
    "from pycalphad import Database\n",
    "from pycalphad import model\n",
    "from sympy import S, Add, symbols"
   ]
  },
  {
   "cell_type": "code",
   "execution_count": 18,
   "metadata": {},
   "outputs": [
    {
     "name": "stdout",
     "output_type": "stream",
     "text": [
      "{x: 2*x/3 - y/3 - z/3 + 1/3, y: -x/3 + 2*y/3 - z/3 + 1/3, z: -x/3 - y/3 + 2*z/3 + 1/3}\n"
     ]
    }
   ],
   "source": [
    "dbf = Database('Mg_Si_Zn-mixingonly.tdb')\n",
    "T, x, y, z = symbols('T x y z')\n",
    "comps = [x, y, z]\n",
    "return_dict = _Muggianu_correction_dict(comps)\n",
    "print(return_dict)"
   ]
  }
 ],
 "metadata": {
  "kernelspec": {
   "display_name": "Python 3.10.4 ('calphad')",
   "language": "python",
   "name": "python3"
  },
  "language_info": {
   "codemirror_mode": {
    "name": "ipython",
    "version": 3
   },
   "file_extension": ".py",
   "mimetype": "text/x-python",
   "name": "python",
   "nbconvert_exporter": "python",
   "pygments_lexer": "ipython3",
   "version": "3.10.4"
  },
  "orig_nbformat": 4,
  "vscode": {
   "interpreter": {
    "hash": "818be52fc3e67187423b156bcc805b3603ed8f46451ea39369ad69a186d5bd38"
   }
  }
 },
 "nbformat": 4,
 "nbformat_minor": 2
}
