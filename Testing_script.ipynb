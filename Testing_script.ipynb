{
 "cells": [
  {
   "cell_type": "code",
   "execution_count": null,
   "metadata": {},
   "outputs": [],
   "source": [
    "def main():\n",
    "    # ...\n",
    "    # preprocess-> features_test_set\n",
    "    # ...\n",
    "    with tf.Session() as sess:\n",
    "        tf.saved_model.loader.load(sess, [tf.saved_model.tag_constants.SERVING], full_model_dir)\n",
    "        predictor   = tf.contrib.predictor.from_saved_model(full_model_dir)\n",
    "        model_input = tf.train.Example(features=tf.train.Features( feature={\"words\": tf.train.Feature(int64_list=tf.train.Int64List(value=features_test_set)) })) \n",
    "        model_input = model_input.SerializeToString()\n",
    "        output_dict = predictor({\"predictor_inputs\":[model_input]})\n",
    "        y_predicted = output_dict[\"pred_output_classes\"][0]"
   ]
  }
 ],
 "metadata": {
  "kernelspec": {
   "display_name": "Python 3.10.4 ('calphad')",
   "language": "python",
   "name": "python3"
  },
  "language_info": {
   "name": "python",
   "version": "3.10.4"
  },
  "orig_nbformat": 4,
  "vscode": {
   "interpreter": {
    "hash": "818be52fc3e67187423b156bcc805b3603ed8f46451ea39369ad69a186d5bd38"
   }
  }
 },
 "nbformat": 4,
 "nbformat_minor": 2
}
