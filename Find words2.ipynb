{
 "cells": [
  {
   "cell_type": "code",
   "execution_count": 1,
   "metadata": {},
   "outputs": [],
   "source": [
    "f = open(\"function.txt\", \"r\")\n",
    "function = f.read()"
   ]
  },
  {
   "cell_type": "code",
   "execution_count": null,
   "metadata": {},
   "outputs": [],
   "source": [
    "print(function)"
   ]
  },
  {
   "cell_type": "code",
   "execution_count": 3,
   "metadata": {},
   "outputs": [
    {
     "name": "stdout",
     "output_type": "stream",
     "text": [
      "['T', 'T**2', 'T**3', 'T**4', 'T**5', 'T**6', 'T**7', 'T**8', 'T**9']\n"
     ]
    }
   ],
   "source": [
    "var_to_check = ['T', 'x', 'y', 'z']\n",
    "check = ['T']\n",
    "power = ''\n",
    "for i in range(2,10):\n",
    "    check.append('T**'+str(i))\n",
    "\n",
    "print(check)"
   ]
  },
  {
   "cell_type": "code",
   "execution_count": 4,
   "metadata": {},
   "outputs": [
    {
     "name": "stdout",
     "output_type": "stream",
     "text": [
      "495\n"
     ]
    }
   ],
   "source": [
    "count = function.count('T')\n",
    "print(count)"
   ]
  },
  {
   "cell_type": "code",
   "execution_count": 5,
   "metadata": {},
   "outputs": [
    {
     "name": "stdout",
     "output_type": "stream",
     "text": [
      "1784.29361048619*T**3*x**6\n",
      "18236.0436415383*T**3*x**5*y\n",
      "17414.3294483889*T**3*x**5*z\n",
      "2092.88546662464*T**3*x**5\n",
      "23353.799534661*T**3*x**4*y**2\n",
      "45769.8234428421*T**3*x**4*y*z\n",
      "47779.4671866349*T**3*x**4*y\n",
      "27094.0115773836*T**3*x**4*z**2\n",
      "11748.981394374*T**3*x**4*z\n",
      "9952.35269452583*T**3*x**4\n",
      "11508.8658228467*T**3*x**3*y**3\n",
      "41583.2439366259*T**3*x**3*y**2*z\n",
      "33154.0669813532*T**3*x**3*y**2\n",
      "43621.7602041886*T**3*x**3*y*z**2\n",
      "102666.498152669*T**3*x**3*y*z\n",
      "46860.1387524616*T**3*x**3*y\n",
      "6792.04257614413*T**3*x**3*z**3\n",
      "13505.5312344144*T**3*x**3*z**2\n",
      "10410.7627601324*T**3*x**3*z\n",
      "10490.042421172*T**3*x**3\n",
      "3554.09512471399*T**3*x**2*y**4\n",
      "25240.4833472694*T**3*x**2*y**3*z\n",
      "16504.2783777434*T**3*x**2*y**3\n",
      "10216.3570591688*T**3*x**2*y**2*z**2\n",
      "31460.5008400206*T**3*x**2*y**2*z\n",
      "16738.3871797175*T**3*x**2*y**2\n",
      "15124.091827484*T**3*x**2*y*z**3\n",
      "71172.1142854533*T**3*x**2*y*z**2\n",
      "79539.6772016561*T**3*x**2*y*z\n",
      "21687.2853406168*T**3*x**2*y\n",
      "5223.87508371556*T**3*x**2*z**4\n",
      "7611.60286437377*T**3*x**2*z**3\n",
      "10834.4892615474*T**3*x**2*z**2\n",
      "12027.6210183159*T**3*x**2*z\n",
      "5012.36673746954*T**3*x**2\n",
      "1164.41580442404*T**3*x*y**5\n",
      "919.309154991571*T**3*x*y**4*z\n",
      "2366.57225477652*T**3*x*y**4\n",
      "11900.4875963484*T**3*x*y**3*z**2\n",
      "21359.9569249495*T**3*x*y**3*z\n",
      "7682.95278660077*T**3*x*y**3\n",
      "6992.10403909088*T**3*x*y**2*z**3\n",
      "7044.50195584006*T**3*x*y**2*z**2\n",
      "3767.34103867337*T**3*x*y**2*z\n",
      "3559.92278365102*T**3*x*y**2\n",
      "980.38942272227*T**3*x*y*z**4\n",
      "12242.0441467542*T**3*x*y*z**3\n",
      "35252.3405674138*T**3*x*y*z**2\n",
      "26050.6210635422*T**3*x*y*z\n",
      "4740.66675388525*T**3*x*y\n",
      "1684.47742436311*T**3*x*z**5\n",
      "6565.63806902102*T**3*x*z**4\n",
      "9822.49141574933*T**3*x*z**3\n",
      "7941.60963321663*T**3*x*z**2\n",
      "3790.80299775167*T**3*x*z\n",
      "1143.79463660372*T**3*x\n",
      "53.6609809965572*T**3*y**6\n",
      "423.929604357663*T**3*y**5*z\n",
      "478.613191289348*T**3*y**5\n",
      "235.746936172772*T**3*y**4*z**2\n",
      "57.0583031834224*T**3*y**4*z\n",
      "351.828187093395*T**3*y**4\n",
      "956.288900371887*T**3*y**3*z**3\n",
      "4284.2321165115*T**3*y**3*z**2\n",
      "4399.40298112846*T**3*y**3*z\n",
      "1174.07114506544*T**3*y**3\n",
      "1846.13283502723*T**3*y**2*z**4\n",
      "5575.17027507843*T**3*y**2*z**3\n",
      "4841.7731644411*T**3*y**2*z**2\n",
      "841.537103464257*T**3*y**2*z\n",
      "277.278506532261*T**3*y**2\n",
      "882.795748976725*T**3*y*z**5\n",
      "1722.86146166497*T**3*y*z**4\n",
      "1970.87880516134*T**3*y*z**3\n",
      "5506.51893772883*T**3*y*z**2\n",
      "3101.89860043155*T**3*y*z\n",
      "384.775503385125*T**3*y\n",
      "61.7610834632836*T**3*z**6\n",
      "467.909774461989*T**3*z**5\n",
      "1815.52161793365*T**3*z**4\n",
      "2280.25091480112*T**3*z**3\n",
      "1274.32126296503*T**3*z**2\n",
      "401.309585610651*T**3*z\n",
      "108.192432244734*T**3\n",
      "Number of terms is 1427\n"
     ]
    }
   ],
   "source": [
    "count = 0\n",
    "for word in function.split():\n",
    "    count += 1\n",
    "    if 'T**3' in word:\n",
    "        print(word)\n",
    "\n",
    "print('Number of terms is', count)"
   ]
  },
  {
   "cell_type": "code",
   "execution_count": 6,
   "metadata": {},
   "outputs": [],
   "source": [
    "from sympy import symbols, init_printing\n",
    "from sympy import *\n",
    "import pandas as pd\n",
    "from sympy.physics.quantum import TensorProduct\n",
    "import numpy as np\n",
    "import tensorflow as tf\n",
    "import sympy\n",
    "\n",
    "T, x, y, z = symbols('T x y z')"
   ]
  },
  {
   "cell_type": "code",
   "execution_count": 7,
   "metadata": {},
   "outputs": [],
   "source": [
    "expr = sympify(function)"
   ]
  },
  {
   "cell_type": "code",
   "execution_count": 8,
   "metadata": {},
   "outputs": [],
   "source": [
    "def extract_coefficients(expr, polys):\n",
    "    result = {}\n",
    "    for poly in polys:\n",
    "        # if poly == 1:\n",
    "        #     continue\n",
    "        # else:\n",
    "        #     # coef = float(expr.coeff(poly))\n",
    "        coef = expr.coeff(poly) \n",
    "        result[poly] = coef\n",
    "        expr = expr - poly*coef\n",
    "    expr = expr.n()\n",
    "    if isinstance(expr, (sympy.Float, sympy.Integer)):\n",
    "        result[1] = float(expr)\n",
    "        expr = sympy.S.Zero\n",
    "    # if expr is not sympy.S.Zero:\n",
    "    #     raise ValueError(expr)\n",
    "    return tuple(result[p] for p in polys)"
   ]
  },
  {
   "cell_type": "code",
   "execution_count": 9,
   "metadata": {},
   "outputs": [],
   "source": [
    "# extract_coefficients(expr, [T, T**2, T**3])\n",
    "Xs_list = []\n",
    "Ys_list = []\n",
    "Ys_list_small = []\n",
    "Ts = extract_coefficients(expr, [T, T**2, T**3, T**4, T**5, T**6, T**7, T**8, T**9])\n",
    "for i in Ts:\n",
    "    Xs = extract_coefficients(i, [x, x**2, x**3, x**4, x**5, x**6, x**7, x**8, x**9, x**10])\n",
    "    Xs_list.append(Xs)\n",
    "    Ys_list_small = []\n",
    "    for j in Xs:\n",
    "        Ys = extract_coefficients(j, [y, y**2, y**3, y**4, y**5, y**6, y**7, y**8, y**9, y**10])\n",
    "        # for k in Ys:\n",
    "        #    Zs = extract_coefficients(j, [z, z**2, z**3, z**4, z**5, z**6, z**7, z**8, z**9, z**10])\n",
    "        Ys_list_small.append(Ys)\n",
    "    Ys_list.append(Ys_list_small)\n",
    "    # print(Xs)"
   ]
  },
  {
   "cell_type": "code",
   "execution_count": 10,
   "metadata": {},
   "outputs": [],
   "source": [
    "# def (matrix, expr, var_list, nest)\n",
    "#     f = function\n",
    "#     var = var_list[0]\n",
    "#     First = extract_coefficients(expr, [var, var**2, var**3, var**4, var**5, var**6, var**7, var**8, var**9])\n",
    "#     Func_int = First\n",
    "#         for i in range(nest):\n",
    "#             inner_func(Func_int, )\n",
    "#     def inner_func(Func_int, ):\n",
    "#             for j in range(len(Func_int)):\n",
    "#                 Func_int2 = extract_coefficients(Func_int[i], [x, x**2, x**3, x**4, x**5, x**6, x**7, x**8, x**9, x**10])    \n",
    "#                 if i != nest:\n",
    "#                     inner_func(Func_int2)\n",
    "#                 else:\n",
    "#                     for l in range(len(Zs)):\n",
    "#                         matrix[i][j][k][l] = Zs[l]\n",
    "\n",
    "\n",
    "#         for j in range(len(Xs)):\n",
    "#             Ys = extract_coefficients(Xs[j], [y, y**2, y**3, y**4, y**5, y**6, y**7, y**8, y**9, y**10])\n",
    "#             for k in range(len(Ys)):\n",
    "#                 Zs = extract_coefficients(Ys[k], [z, z**2, z**3, z**4, z**5, z**6, z**7, z**8, z**9, z**10])\n",
    "#                 for l in range(len(Zs)):\n",
    "#                     matrix[i][j][k][l] = Zs[l]"
   ]
  },
  {
   "cell_type": "code",
   "execution_count": 11,
   "metadata": {},
   "outputs": [
    {
     "name": "stdout",
     "output_type": "stream",
     "text": [
      "(10, 10, 10, 10)\n",
      "[-3227.41833121  8487.30353721 -4067.81577259 -8934.42704672\n",
      "  9617.36586667 -2155.36872965     0.             0.\n",
      "     0.             0.        ]\n"
     ]
    }
   ],
   "source": [
    "# extract_coefficients(expr, [T, T**2, T**3])\n",
    "matrix = np.zeros([10,10,10,10])\n",
    "print(matrix.shape)\n",
    "\n",
    "Ts = extract_coefficients(expr, [T, T**2, T**3, T**4, T**5, T**6, T**7, T**8, T**9, T**10])\n",
    "for i in range(len(Ts)):\n",
    "    Xs = extract_coefficients(Ts[i], [x, x**2, x**3, x**4, x**5, x**6, x**7, x**8, x**9, x**10])\n",
    "    for j in range(len(Xs)):\n",
    "        Ys = extract_coefficients(Xs[j], [y, y**2, y**3, y**4, y**5, y**6, y**7, y**8, y**9, y**10])\n",
    "        for k in range(len(Ys)):\n",
    "            Zs = extract_coefficients(Ys[k], [z, z**2, z**3, z**4, z**5, z**6, z**7, z**8, z**9, z**10])\n",
    "            for l in range(len(Zs)):\n",
    "                matrix[i][j][k][l] = Zs[l]\n",
    "\n",
    "print(matrix[0][0][0])"
   ]
  },
  {
   "cell_type": "code",
   "execution_count": 12,
   "metadata": {},
   "outputs": [],
   "source": [
    "# type(0:2)"
   ]
  },
  {
   "cell_type": "code",
   "execution_count": 13,
   "metadata": {},
   "outputs": [
    {
     "name": "stdout",
     "output_type": "stream",
     "text": [
      "(3, 3, 3, 3)\n"
     ]
    }
   ],
   "source": [
    "order = 2\n",
    "indexing = np.asarray(list(range(0, order+1)))\n",
    "print(matrix[0:order+1, 0:order+1, 0:order+1, 0:order+1].shape)"
   ]
  },
  {
   "cell_type": "code",
   "execution_count": 14,
   "metadata": {},
   "outputs": [
    {
     "ename": "NameError",
     "evalue": "name '_Muggianu_correction_dict' is not defined",
     "output_type": "error",
     "traceback": [
      "\u001b[1;31m---------------------------------------------------------------------------\u001b[0m",
      "\u001b[1;31mNameError\u001b[0m                                 Traceback (most recent call last)",
      "\u001b[1;32mc:\\Users\\zhenyap\\pycalphad\\Find words.ipynb Cell 14\u001b[0m in \u001b[0;36m<cell line: 4>\u001b[1;34m()\u001b[0m\n\u001b[0;32m      <a href='vscode-notebook-cell:/c%3A/Users/zhenyap/pycalphad/Find%20words.ipynb#X16sZmlsZQ%3D%3D?line=1'>2</a>\u001b[0m T, x, y, z \u001b[39m=\u001b[39m symbols(\u001b[39m'\u001b[39m\u001b[39mT x y z\u001b[39m\u001b[39m'\u001b[39m)\n\u001b[0;32m      <a href='vscode-notebook-cell:/c%3A/Users/zhenyap/pycalphad/Find%20words.ipynb#X16sZmlsZQ%3D%3D?line=2'>3</a>\u001b[0m comps \u001b[39m=\u001b[39m [x, y, z]\n\u001b[1;32m----> <a href='vscode-notebook-cell:/c%3A/Users/zhenyap/pycalphad/Find%20words.ipynb#X16sZmlsZQ%3D%3D?line=3'>4</a>\u001b[0m return_dict \u001b[39m=\u001b[39m _Muggianu_correction_dict(comps)\n\u001b[0;32m      <a href='vscode-notebook-cell:/c%3A/Users/zhenyap/pycalphad/Find%20words.ipynb#X16sZmlsZQ%3D%3D?line=4'>5</a>\u001b[0m \u001b[39mprint\u001b[39m(return_dict)\n\u001b[0;32m      <a href='vscode-notebook-cell:/c%3A/Users/zhenyap/pycalphad/Find%20words.ipynb#X16sZmlsZQ%3D%3D?line=6'>7</a>\u001b[0m \u001b[39m# for i in list(return_dict.values()):\u001b[39;00m\n\u001b[0;32m      <a href='vscode-notebook-cell:/c%3A/Users/zhenyap/pycalphad/Find%20words.ipynb#X16sZmlsZQ%3D%3D?line=7'>8</a>\u001b[0m \u001b[39m#     add += (x*y*z)*i\u001b[39;00m\n\u001b[0;32m      <a href='vscode-notebook-cell:/c%3A/Users/zhenyap/pycalphad/Find%20words.ipynb#X16sZmlsZQ%3D%3D?line=8'>9</a>\u001b[0m \u001b[39m# print(simplify(expand(add)))\u001b[39;00m\n",
      "\u001b[1;31mNameError\u001b[0m: name '_Muggianu_correction_dict' is not defined"
     ]
    }
   ],
   "source": [
    "from pycalphad import model\n",
    "T, x, y, z = symbols('T x y z')\n",
    "comps = [x, y, z]\n",
    "return_dict = _Muggianu_correction_dict(comps)\n",
    "print(return_dict)\n",
    "\n",
    "# for i in list(return_dict.values()):\n",
    "#     add += (x*y*z)*i\n",
    "# print(simplify(expand(add)))\n",
    "\n",
    "add = x*y*z*(x.subs(return_dict) + y.subs(return_dict) + z.subs(return_dict))\n",
    "# add = x*y*z*(return_dict[x] + return_dict[y] + return_dict[z])\n",
    "print(simplify(expand(add)))"
   ]
  },
  {
   "cell_type": "code",
   "execution_count": null,
   "metadata": {},
   "outputs": [
    {
     "name": "stdout",
     "output_type": "stream",
     "text": [
      "c1*x*y + c10*x*y*z + c2*x**2*y - c2*x*y**2 + c3*x**3*y - 2*c3*x**2*y**2 + c3*x*y**3 + c4*y*z + c5*y**2*z - c5*y*z**2 + c6*y**3*z - 2*c6*y**2*z**2 + c6*y*z**3 + c7*x*z + c8*x**2*z - c8*x*z**2 + c9*x**3*z - 2*c9*x**2*z**2 + c9*x*z**3\n"
     ]
    }
   ],
   "source": [
    "T, x, y, z = symbols('T x y z')\n",
    "c1, c2, c3, c4, c5, c6, c7, c8, c9, c10, c11, c12, c13, c14, c15, c16, c17, c18, c19, c20, c21, c22, c23, c24, c25, c26, c27, c28, c29, c30, c31, c32, c33, c34, c35, c36, c37, c38, c39, c40,c41 = symbols('c1, c2, c3, c4, c5, c6, c7, c8, c9, c10, c11, c12, c13, c14, c15, c16, c17, c18, c19, c20, c21, c22, c23, c24, c25, c26, c27, c28, c29, c30, c31, c32, c33, c34, c35, c36, c37, c38, c39, c40,c41')\n",
    "\n",
    "f = c1*x*y + c2*x*y*(x-y) + c3*x*y*(x-y)**2 + c4*y*z + c5*y*z*(y-z) + c6*y*z*(y-z)**2 + c7*x*z + c8*x*z*(x-z) + c9*x*z*(x-z)**2 + c10*x*y*z\n",
    "#  + c11*x*y*z(2*x/3 - y/3 - z/3 + 1/3) + c12*x*y*z(2*x/3 - y/3 - z/3 + 1/3)**2 + c13*x*y*z(2*x/3 - y/3 - z/3 + 1/3)**3\n",
    "# f += \n",
    "f = simplify(expand(f))\n",
    "print(f)"
   ]
  },
  {
   "cell_type": "code",
   "execution_count": null,
   "metadata": {},
   "outputs": [
    {
     "ename": "TypeError",
     "evalue": "Cannot convert expression to float",
     "output_type": "error",
     "traceback": [
      "\u001b[1;31m---------------------------------------------------------------------------\u001b[0m",
      "\u001b[1;31mTypeError\u001b[0m                                 Traceback (most recent call last)",
      "\u001b[1;32mc:\\Users\\zhenyap\\pycalphad\\Find words.ipynb Cell 16\u001b[0m in \u001b[0;36m<cell line: 6>\u001b[1;34m()\u001b[0m\n\u001b[0;32m      <a href='vscode-notebook-cell:/c%3A/Users/zhenyap/pycalphad/Find%20words.ipynb#X26sZmlsZQ%3D%3D?line=8'>9</a>\u001b[0m Zs \u001b[39m=\u001b[39m extract_coefficients(Ys[j], [z, z\u001b[39m*\u001b[39m\u001b[39m*\u001b[39m\u001b[39m2\u001b[39m, z\u001b[39m*\u001b[39m\u001b[39m*\u001b[39m\u001b[39m3\u001b[39m, z\u001b[39m*\u001b[39m\u001b[39m*\u001b[39m\u001b[39m4\u001b[39m, z\u001b[39m*\u001b[39m\u001b[39m*\u001b[39m\u001b[39m5\u001b[39m, z\u001b[39m*\u001b[39m\u001b[39m*\u001b[39m\u001b[39m6\u001b[39m, z\u001b[39m*\u001b[39m\u001b[39m*\u001b[39m\u001b[39m7\u001b[39m, z\u001b[39m*\u001b[39m\u001b[39m*\u001b[39m\u001b[39m8\u001b[39m, z\u001b[39m*\u001b[39m\u001b[39m*\u001b[39m\u001b[39m9\u001b[39m, z\u001b[39m*\u001b[39m\u001b[39m*\u001b[39m\u001b[39m10\u001b[39m])\n\u001b[0;32m     <a href='vscode-notebook-cell:/c%3A/Users/zhenyap/pycalphad/Find%20words.ipynb#X26sZmlsZQ%3D%3D?line=9'>10</a>\u001b[0m \u001b[39mfor\u001b[39;00m k \u001b[39min\u001b[39;00m \u001b[39mrange\u001b[39m(\u001b[39mlen\u001b[39m(Zs)):\n\u001b[1;32m---> <a href='vscode-notebook-cell:/c%3A/Users/zhenyap/pycalphad/Find%20words.ipynb#X26sZmlsZQ%3D%3D?line=10'>11</a>\u001b[0m     matrix[i][j][k] \u001b[39m=\u001b[39m Zs[k]\n",
      "File \u001b[1;32mc:\\Users\\zhenyap\\Miniconda3\\envs\\calphad\\lib\\site-packages\\sympy\\core\\expr.py:345\u001b[0m, in \u001b[0;36mExpr.__float__\u001b[1;34m(self)\u001b[0m\n\u001b[0;32m    343\u001b[0m \u001b[39mif\u001b[39;00m result\u001b[39m.\u001b[39mis_number \u001b[39mand\u001b[39;00m result\u001b[39m.\u001b[39mas_real_imag()[\u001b[39m1\u001b[39m]:\n\u001b[0;32m    344\u001b[0m     \u001b[39mraise\u001b[39;00m \u001b[39mTypeError\u001b[39;00m(\u001b[39m\"\u001b[39m\u001b[39mCannot convert complex to float\u001b[39m\u001b[39m\"\u001b[39m)\n\u001b[1;32m--> 345\u001b[0m \u001b[39mraise\u001b[39;00m \u001b[39mTypeError\u001b[39;00m(\u001b[39m\"\u001b[39m\u001b[39mCannot convert expression to float\u001b[39m\u001b[39m\"\u001b[39m)\n",
      "\u001b[1;31mTypeError\u001b[0m: Cannot convert expression to float"
     ]
    }
   ],
   "source": [
    "# # compare = Array([10,10,10])\n",
    "# Xs_list = []\n",
    "# Ys_list = []\n",
    "# compare = np.zeros([10,10,10])\n",
    "# Xs = extract_coefficients(f, [x, x**2, x**3, x**4, x**5, x**6, x**7, x**8, x**9, x**10])\n",
    "# for i in range(len(Xs)):\n",
    "#     Ys = extract_coefficients(Xs[i], [y, y**2, y**3, y**4, y**5, y**6, y**7, y**8, y**9, y**10])\n",
    "#     for j in range(len(Ys)):\n",
    "#         Zs = extract_coefficients(Ys[j], [z, z**2, z**3, z**4, z**5, z**6, z**7, z**8, z**9, z**10])\n",
    "#         for k in range(len(Zs)):\n",
    "#             matrix[i][j][k] = Zs[k]"
   ]
  },
  {
   "cell_type": "code",
   "execution_count": null,
   "metadata": {},
   "outputs": [
    {
     "ename": "AssertionError",
     "evalue": "",
     "output_type": "error",
     "traceback": [
      "\u001b[1;31m---------------------------------------------------------------------------\u001b[0m",
      "\u001b[1;31mAssertionError\u001b[0m                            Traceback (most recent call last)",
      "\u001b[1;32mc:\\Users\\zhenyap\\pycalphad\\Find words.ipynb Cell 17\u001b[0m in \u001b[0;36m<cell line: 2>\u001b[1;34m()\u001b[0m\n\u001b[0;32m      <a href='vscode-notebook-cell:/c%3A/Users/zhenyap/pycalphad/Find%20words.ipynb#X34sZmlsZQ%3D%3D?line=0'>1</a>\u001b[0m assert_list \u001b[39m=\u001b[39m [c1, c2, c3, c4, c5, c6, c7, c8, c9, c10, c11, c12, c13, c14, c15, c16, c17, c18, c19, c20, c21, c22, c23, c24, c25, c26, c27, c28, c29, c30, c31, c32, c33, c34, c35, c36, c37, c38, c39, c40, c41]\n\u001b[0;32m      <a href='vscode-notebook-cell:/c%3A/Users/zhenyap/pycalphad/Find%20words.ipynb#X34sZmlsZQ%3D%3D?line=1'>2</a>\u001b[0m \u001b[39mfor\u001b[39;00m i \u001b[39min\u001b[39;00m assert_list:\n\u001b[1;32m----> <a href='vscode-notebook-cell:/c%3A/Users/zhenyap/pycalphad/Find%20words.ipynb#X34sZmlsZQ%3D%3D?line=2'>3</a>\u001b[0m     \u001b[39massert\u001b[39;00m i\u001b[39m.\u001b[39mis_constant()\n",
      "\u001b[1;31mAssertionError\u001b[0m: "
     ]
    }
   ],
   "source": [
    "# assert_list = [c1, c2, c3, c4, c5, c6, c7, c8, c9, c10, c11, c12, c13, c14, c15, c16, c17, c18, c19, c20, c21, c22, c23, c24, c25, c26, c27, c28, c29, c30, c31, c32, c33, c34, c35, c36, c37, c38, c39, c40, c41]\n",
    "# for i in assert_list:\n",
    "#     assert i.is_constant()"
   ]
  },
  {
   "cell_type": "code",
   "execution_count": null,
   "metadata": {},
   "outputs": [
    {
     "name": "stdout",
     "output_type": "stream",
     "text": [
      "f c1*x*y + c10*x*y*z + c2*x**2*y - c2*x*y**2 + c3*x**3*y - 2*c3*x**2*y**2 + c3*x*y**3 + c4*y*z + c5*y**2*z - c5*y*z**2 + c6*y**3*z - 2*c6*y**2*z**2 + c6*y*z**3 + c7*x*z + c8*x**2*z - c8*x*z**2 + c9*x**3*z - 2*c9*x**2*z**2 + c9*x*z**3\n",
      "Final [[[[0, 0, 0, 0, 0, 0, 0, 0, 0, 0], [0, c4, -c5, c6, 0, 0, 0, 0, 0, 0], [0, c5, -2*c6, 0, 0, 0, 0, 0, 0, 0], [0, c6, 0, 0, 0, 0, 0, 0, 0, 0], [0, 0, 0, 0, 0, 0, 0, 0, 0, 0], [0, 0, 0, 0, 0, 0, 0, 0, 0, 0], [0, 0, 0, 0, 0, 0, 0, 0, 0, 0], [0, 0, 0, 0, 0, 0, 0, 0, 0, 0], [0, 0, 0, 0, 0, 0, 0, 0, 0, 0], [0, 0, 0, 0, 0, 0, 0, 0, 0, 0]], [[0, c7, -c8, c9, 0, 0, 0, 0, 0, 0], [c1, c10, 0, 0, 0, 0, 0, 0, 0, 0], [-c2, 0, 0, 0, 0, 0, 0, 0, 0, 0], [c3, 0, 0, 0, 0, 0, 0, 0, 0, 0], [0, 0, 0, 0, 0, 0, 0, 0, 0, 0], [0, 0, 0, 0, 0, 0, 0, 0, 0, 0], [0, 0, 0, 0, 0, 0, 0, 0, 0, 0], [0, 0, 0, 0, 0, 0, 0, 0, 0, 0], [0, 0, 0, 0, 0, 0, 0, 0, 0, 0], [0, 0, 0, 0, 0, 0, 0, 0, 0, 0]], [[0, c8, -2*c9, 0, 0, 0, 0, 0, 0, 0], [c2, 0, 0, 0, 0, 0, 0, 0, 0, 0], [-2*c3, 0, 0, 0, 0, 0, 0, 0, 0, 0], [0, 0, 0, 0, 0, 0, 0, 0, 0, 0], [0, 0, 0, 0, 0, 0, 0, 0, 0, 0], [0, 0, 0, 0, 0, 0, 0, 0, 0, 0], [0, 0, 0, 0, 0, 0, 0, 0, 0, 0], [0, 0, 0, 0, 0, 0, 0, 0, 0, 0], [0, 0, 0, 0, 0, 0, 0, 0, 0, 0], [0, 0, 0, 0, 0, 0, 0, 0, 0, 0]], [[0, c9, 0, 0, 0, 0, 0, 0, 0, 0], [c3, 0, 0, 0, 0, 0, 0, 0, 0, 0], [0, 0, 0, 0, 0, 0, 0, 0, 0, 0], [0, 0, 0, 0, 0, 0, 0, 0, 0, 0], [0, 0, 0, 0, 0, 0, 0, 0, 0, 0], [0, 0, 0, 0, 0, 0, 0, 0, 0, 0], [0, 0, 0, 0, 0, 0, 0, 0, 0, 0], [0, 0, 0, 0, 0, 0, 0, 0, 0, 0], [0, 0, 0, 0, 0, 0, 0, 0, 0, 0], [0, 0, 0, 0, 0, 0, 0, 0, 0, 0]], [[0, 0, 0, 0, 0, 0, 0, 0, 0, 0], [0, 0, 0, 0, 0, 0, 0, 0, 0, 0], [0, 0, 0, 0, 0, 0, 0, 0, 0, 0], [0, 0, 0, 0, 0, 0, 0, 0, 0, 0], [0, 0, 0, 0, 0, 0, 0, 0, 0, 0], [0, 0, 0, 0, 0, 0, 0, 0, 0, 0], [0, 0, 0, 0, 0, 0, 0, 0, 0, 0], [0, 0, 0, 0, 0, 0, 0, 0, 0, 0], [0, 0, 0, 0, 0, 0, 0, 0, 0, 0], [0, 0, 0, 0, 0, 0, 0, 0, 0, 0]], [[0, 0, 0, 0, 0, 0, 0, 0, 0, 0], [0, 0, 0, 0, 0, 0, 0, 0, 0, 0], [0, 0, 0, 0, 0, 0, 0, 0, 0, 0], [0, 0, 0, 0, 0, 0, 0, 0, 0, 0], [0, 0, 0, 0, 0, 0, 0, 0, 0, 0], [0, 0, 0, 0, 0, 0, 0, 0, 0, 0], [0, 0, 0, 0, 0, 0, 0, 0, 0, 0], [0, 0, 0, 0, 0, 0, 0, 0, 0, 0], [0, 0, 0, 0, 0, 0, 0, 0, 0, 0], [0, 0, 0, 0, 0, 0, 0, 0, 0, 0]], [[0, 0, 0, 0, 0, 0, 0, 0, 0, 0], [0, 0, 0, 0, 0, 0, 0, 0, 0, 0], [0, 0, 0, 0, 0, 0, 0, 0, 0, 0], [0, 0, 0, 0, 0, 0, 0, 0, 0, 0], [0, 0, 0, 0, 0, 0, 0, 0, 0, 0], [0, 0, 0, 0, 0, 0, 0, 0, 0, 0], [0, 0, 0, 0, 0, 0, 0, 0, 0, 0], [0, 0, 0, 0, 0, 0, 0, 0, 0, 0], [0, 0, 0, 0, 0, 0, 0, 0, 0, 0], [0, 0, 0, 0, 0, 0, 0, 0, 0, 0]], [[0, 0, 0, 0, 0, 0, 0, 0, 0, 0], [0, 0, 0, 0, 0, 0, 0, 0, 0, 0], [0, 0, 0, 0, 0, 0, 0, 0, 0, 0], [0, 0, 0, 0, 0, 0, 0, 0, 0, 0], [0, 0, 0, 0, 0, 0, 0, 0, 0, 0], [0, 0, 0, 0, 0, 0, 0, 0, 0, 0], [0, 0, 0, 0, 0, 0, 0, 0, 0, 0], [0, 0, 0, 0, 0, 0, 0, 0, 0, 0], [0, 0, 0, 0, 0, 0, 0, 0, 0, 0], [0, 0, 0, 0, 0, 0, 0, 0, 0, 0]], [[0, 0, 0, 0, 0, 0, 0, 0, 0, 0], [0, 0, 0, 0, 0, 0, 0, 0, 0, 0], [0, 0, 0, 0, 0, 0, 0, 0, 0, 0], [0, 0, 0, 0, 0, 0, 0, 0, 0, 0], [0, 0, 0, 0, 0, 0, 0, 0, 0, 0], [0, 0, 0, 0, 0, 0, 0, 0, 0, 0], [0, 0, 0, 0, 0, 0, 0, 0, 0, 0], [0, 0, 0, 0, 0, 0, 0, 0, 0, 0], [0, 0, 0, 0, 0, 0, 0, 0, 0, 0], [0, 0, 0, 0, 0, 0, 0, 0, 0, 0]], [[0, 0, 0, 0, 0, 0, 0, 0, 0, 0], [0, 0, 0, 0, 0, 0, 0, 0, 0, 0], [0, 0, 0, 0, 0, 0, 0, 0, 0, 0], [0, 0, 0, 0, 0, 0, 0, 0, 0, 0], [0, 0, 0, 0, 0, 0, 0, 0, 0, 0], [0, 0, 0, 0, 0, 0, 0, 0, 0, 0], [0, 0, 0, 0, 0, 0, 0, 0, 0, 0], [0, 0, 0, 0, 0, 0, 0, 0, 0, 0], [0, 0, 0, 0, 0, 0, 0, 0, 0, 0], [0, 0, 0, 0, 0, 0, 0, 0, 0, 0]]]]\n"
     ]
    }
   ],
   "source": [
    "# compare = Array([10,10,10])\n",
    "Xs_list = []\n",
    "Ys_list = []\n",
    "Zs_list = []\n",
    "compare = MutableDenseNDimArray([10,10,10])\n",
    "print('f', f)\n",
    "Xs = extract_coefficients(expand(f*x), [x, x**2, x**3, x**4, x**5, x**6, x**7, x**8, x**9, x**10])\n",
    "# print('Xs',Xs)\n",
    "for i in range(len(Xs)):\n",
    "    Ys = extract_coefficients(expand(Xs[i]*y), [y, y**2, y**3, y**4, y**5, y**6, y**7, y**8, y**9, y**10])\n",
    "    # print('Ys', Ys)\n",
    "    Zs_list = []\n",
    "    for j in range(len(Ys)):\n",
    "        Zs = extract_coefficients(expand(Ys[j]*z), [z, z**2, z**3, z**4, z**5, z**6, z**7, z**8, z**9, z**10])\n",
    "        # print('Zs', Zs)\n",
    "        Zs_list.append(list(Zs))\n",
    "    Ys_list.append(Zs_list)\n",
    "Xs_list.append(Ys_list)\n",
    "\n",
    "        # for k in range(len(Zs)):\n",
    "            \n",
    "        #     print(Zs[k])\n",
    "        #     matrix[i][j][k] = Zs[k]\n",
    "print('Final', Xs_list)\n",
    "\n"
   ]
  },
  {
   "cell_type": "code",
   "execution_count": null,
   "metadata": {},
   "outputs": [
    {
     "data": {
      "text/latex": [
       "$\\displaystyle \\left[\\left[\\begin{matrix}\\left[\\begin{matrix}0 & 0 & 0 & 0 & 0 & 0 & 0 & 0 & 0 & 0\\\\0 & c_{4} & - c_{5} & c_{6} & 0 & 0 & 0 & 0 & 0 & 0\\\\0 & c_{5} & - 2 c_{6} & 0 & 0 & 0 & 0 & 0 & 0 & 0\\\\0 & c_{6} & 0 & 0 & 0 & 0 & 0 & 0 & 0 & 0\\\\0 & 0 & 0 & 0 & 0 & 0 & 0 & 0 & 0 & 0\\\\0 & 0 & 0 & 0 & 0 & 0 & 0 & 0 & 0 & 0\\\\0 & 0 & 0 & 0 & 0 & 0 & 0 & 0 & 0 & 0\\\\0 & 0 & 0 & 0 & 0 & 0 & 0 & 0 & 0 & 0\\\\0 & 0 & 0 & 0 & 0 & 0 & 0 & 0 & 0 & 0\\\\0 & 0 & 0 & 0 & 0 & 0 & 0 & 0 & 0 & 0\\end{matrix}\\right] & \\left[\\begin{matrix}0 & c_{7} & - c_{8} & c_{9} & 0 & 0 & 0 & 0 & 0 & 0\\\\c_{1} & c_{10} & 0 & 0 & 0 & 0 & 0 & 0 & 0 & 0\\\\- c_{2} & 0 & 0 & 0 & 0 & 0 & 0 & 0 & 0 & 0\\\\c_{3} & 0 & 0 & 0 & 0 & 0 & 0 & 0 & 0 & 0\\\\0 & 0 & 0 & 0 & 0 & 0 & 0 & 0 & 0 & 0\\\\0 & 0 & 0 & 0 & 0 & 0 & 0 & 0 & 0 & 0\\\\0 & 0 & 0 & 0 & 0 & 0 & 0 & 0 & 0 & 0\\\\0 & 0 & 0 & 0 & 0 & 0 & 0 & 0 & 0 & 0\\\\0 & 0 & 0 & 0 & 0 & 0 & 0 & 0 & 0 & 0\\\\0 & 0 & 0 & 0 & 0 & 0 & 0 & 0 & 0 & 0\\end{matrix}\\right] & \\left[\\begin{matrix}0 & c_{8} & - 2 c_{9} & 0 & 0 & 0 & 0 & 0 & 0 & 0\\\\c_{2} & 0 & 0 & 0 & 0 & 0 & 0 & 0 & 0 & 0\\\\- 2 c_{3} & 0 & 0 & 0 & 0 & 0 & 0 & 0 & 0 & 0\\\\0 & 0 & 0 & 0 & 0 & 0 & 0 & 0 & 0 & 0\\\\0 & 0 & 0 & 0 & 0 & 0 & 0 & 0 & 0 & 0\\\\0 & 0 & 0 & 0 & 0 & 0 & 0 & 0 & 0 & 0\\\\0 & 0 & 0 & 0 & 0 & 0 & 0 & 0 & 0 & 0\\\\0 & 0 & 0 & 0 & 0 & 0 & 0 & 0 & 0 & 0\\\\0 & 0 & 0 & 0 & 0 & 0 & 0 & 0 & 0 & 0\\\\0 & 0 & 0 & 0 & 0 & 0 & 0 & 0 & 0 & 0\\end{matrix}\\right] & \\left[\\begin{matrix}0 & c_{9} & 0 & 0 & 0 & 0 & 0 & 0 & 0 & 0\\\\c_{3} & 0 & 0 & 0 & 0 & 0 & 0 & 0 & 0 & 0\\\\0 & 0 & 0 & 0 & 0 & 0 & 0 & 0 & 0 & 0\\\\0 & 0 & 0 & 0 & 0 & 0 & 0 & 0 & 0 & 0\\\\0 & 0 & 0 & 0 & 0 & 0 & 0 & 0 & 0 & 0\\\\0 & 0 & 0 & 0 & 0 & 0 & 0 & 0 & 0 & 0\\\\0 & 0 & 0 & 0 & 0 & 0 & 0 & 0 & 0 & 0\\\\0 & 0 & 0 & 0 & 0 & 0 & 0 & 0 & 0 & 0\\\\0 & 0 & 0 & 0 & 0 & 0 & 0 & 0 & 0 & 0\\\\0 & 0 & 0 & 0 & 0 & 0 & 0 & 0 & 0 & 0\\end{matrix}\\right] & \\left[\\begin{matrix}0 & 0 & 0 & 0 & 0 & 0 & 0 & 0 & 0 & 0\\\\0 & 0 & 0 & 0 & 0 & 0 & 0 & 0 & 0 & 0\\\\0 & 0 & 0 & 0 & 0 & 0 & 0 & 0 & 0 & 0\\\\0 & 0 & 0 & 0 & 0 & 0 & 0 & 0 & 0 & 0\\\\0 & 0 & 0 & 0 & 0 & 0 & 0 & 0 & 0 & 0\\\\0 & 0 & 0 & 0 & 0 & 0 & 0 & 0 & 0 & 0\\\\0 & 0 & 0 & 0 & 0 & 0 & 0 & 0 & 0 & 0\\\\0 & 0 & 0 & 0 & 0 & 0 & 0 & 0 & 0 & 0\\\\0 & 0 & 0 & 0 & 0 & 0 & 0 & 0 & 0 & 0\\\\0 & 0 & 0 & 0 & 0 & 0 & 0 & 0 & 0 & 0\\end{matrix}\\right] & \\left[\\begin{matrix}0 & 0 & 0 & 0 & 0 & 0 & 0 & 0 & 0 & 0\\\\0 & 0 & 0 & 0 & 0 & 0 & 0 & 0 & 0 & 0\\\\0 & 0 & 0 & 0 & 0 & 0 & 0 & 0 & 0 & 0\\\\0 & 0 & 0 & 0 & 0 & 0 & 0 & 0 & 0 & 0\\\\0 & 0 & 0 & 0 & 0 & 0 & 0 & 0 & 0 & 0\\\\0 & 0 & 0 & 0 & 0 & 0 & 0 & 0 & 0 & 0\\\\0 & 0 & 0 & 0 & 0 & 0 & 0 & 0 & 0 & 0\\\\0 & 0 & 0 & 0 & 0 & 0 & 0 & 0 & 0 & 0\\\\0 & 0 & 0 & 0 & 0 & 0 & 0 & 0 & 0 & 0\\\\0 & 0 & 0 & 0 & 0 & 0 & 0 & 0 & 0 & 0\\end{matrix}\\right] & \\left[\\begin{matrix}0 & 0 & 0 & 0 & 0 & 0 & 0 & 0 & 0 & 0\\\\0 & 0 & 0 & 0 & 0 & 0 & 0 & 0 & 0 & 0\\\\0 & 0 & 0 & 0 & 0 & 0 & 0 & 0 & 0 & 0\\\\0 & 0 & 0 & 0 & 0 & 0 & 0 & 0 & 0 & 0\\\\0 & 0 & 0 & 0 & 0 & 0 & 0 & 0 & 0 & 0\\\\0 & 0 & 0 & 0 & 0 & 0 & 0 & 0 & 0 & 0\\\\0 & 0 & 0 & 0 & 0 & 0 & 0 & 0 & 0 & 0\\\\0 & 0 & 0 & 0 & 0 & 0 & 0 & 0 & 0 & 0\\\\0 & 0 & 0 & 0 & 0 & 0 & 0 & 0 & 0 & 0\\\\0 & 0 & 0 & 0 & 0 & 0 & 0 & 0 & 0 & 0\\end{matrix}\\right] & \\left[\\begin{matrix}0 & 0 & 0 & 0 & 0 & 0 & 0 & 0 & 0 & 0\\\\0 & 0 & 0 & 0 & 0 & 0 & 0 & 0 & 0 & 0\\\\0 & 0 & 0 & 0 & 0 & 0 & 0 & 0 & 0 & 0\\\\0 & 0 & 0 & 0 & 0 & 0 & 0 & 0 & 0 & 0\\\\0 & 0 & 0 & 0 & 0 & 0 & 0 & 0 & 0 & 0\\\\0 & 0 & 0 & 0 & 0 & 0 & 0 & 0 & 0 & 0\\\\0 & 0 & 0 & 0 & 0 & 0 & 0 & 0 & 0 & 0\\\\0 & 0 & 0 & 0 & 0 & 0 & 0 & 0 & 0 & 0\\\\0 & 0 & 0 & 0 & 0 & 0 & 0 & 0 & 0 & 0\\\\0 & 0 & 0 & 0 & 0 & 0 & 0 & 0 & 0 & 0\\end{matrix}\\right] & \\left[\\begin{matrix}0 & 0 & 0 & 0 & 0 & 0 & 0 & 0 & 0 & 0\\\\0 & 0 & 0 & 0 & 0 & 0 & 0 & 0 & 0 & 0\\\\0 & 0 & 0 & 0 & 0 & 0 & 0 & 0 & 0 & 0\\\\0 & 0 & 0 & 0 & 0 & 0 & 0 & 0 & 0 & 0\\\\0 & 0 & 0 & 0 & 0 & 0 & 0 & 0 & 0 & 0\\\\0 & 0 & 0 & 0 & 0 & 0 & 0 & 0 & 0 & 0\\\\0 & 0 & 0 & 0 & 0 & 0 & 0 & 0 & 0 & 0\\\\0 & 0 & 0 & 0 & 0 & 0 & 0 & 0 & 0 & 0\\\\0 & 0 & 0 & 0 & 0 & 0 & 0 & 0 & 0 & 0\\\\0 & 0 & 0 & 0 & 0 & 0 & 0 & 0 & 0 & 0\\end{matrix}\\right] & \\left[\\begin{matrix}0 & 0 & 0 & 0 & 0 & 0 & 0 & 0 & 0 & 0\\\\0 & 0 & 0 & 0 & 0 & 0 & 0 & 0 & 0 & 0\\\\0 & 0 & 0 & 0 & 0 & 0 & 0 & 0 & 0 & 0\\\\0 & 0 & 0 & 0 & 0 & 0 & 0 & 0 & 0 & 0\\\\0 & 0 & 0 & 0 & 0 & 0 & 0 & 0 & 0 & 0\\\\0 & 0 & 0 & 0 & 0 & 0 & 0 & 0 & 0 & 0\\\\0 & 0 & 0 & 0 & 0 & 0 & 0 & 0 & 0 & 0\\\\0 & 0 & 0 & 0 & 0 & 0 & 0 & 0 & 0 & 0\\\\0 & 0 & 0 & 0 & 0 & 0 & 0 & 0 & 0 & 0\\\\0 & 0 & 0 & 0 & 0 & 0 & 0 & 0 & 0 & 0\\end{matrix}\\right]\\end{matrix}\\right]\\right]$"
      ],
      "text/plain": [
       "[[[[0, 0, 0, 0, 0, 0, 0, 0, 0, 0], [0, c4, -c5, c6, 0, 0, 0, 0, 0, 0], [0, c5, -2*c6, 0, 0, 0, 0, 0, 0, 0], [0, c6, 0, 0, 0, 0, 0, 0, 0, 0], [0, 0, 0, 0, 0, 0, 0, 0, 0, 0], [0, 0, 0, 0, 0, 0, 0, 0, 0, 0], [0, 0, 0, 0, 0, 0, 0, 0, 0, 0], [0, 0, 0, 0, 0, 0, 0, 0, 0, 0], [0, 0, 0, 0, 0, 0, 0, 0, 0, 0], [0, 0, 0, 0, 0, 0, 0, 0, 0, 0]], [[0, c7, -c8, c9, 0, 0, 0, 0, 0, 0], [c1, c10, 0, 0, 0, 0, 0, 0, 0, 0], [-c2, 0, 0, 0, 0, 0, 0, 0, 0, 0], [c3, 0, 0, 0, 0, 0, 0, 0, 0, 0], [0, 0, 0, 0, 0, 0, 0, 0, 0, 0], [0, 0, 0, 0, 0, 0, 0, 0, 0, 0], [0, 0, 0, 0, 0, 0, 0, 0, 0, 0], [0, 0, 0, 0, 0, 0, 0, 0, 0, 0], [0, 0, 0, 0, 0, 0, 0, 0, 0, 0], [0, 0, 0, 0, 0, 0, 0, 0, 0, 0]], [[0, c8, -2*c9, 0, 0, 0, 0, 0, 0, 0], [c2, 0, 0, 0, 0, 0, 0, 0, 0, 0], [-2*c3, 0, 0, 0, 0, 0, 0, 0, 0, 0], [0, 0, 0, 0, 0, 0, 0, 0, 0, 0], [0, 0, 0, 0, 0, 0, 0, 0, 0, 0], [0, 0, 0, 0, 0, 0, 0, 0, 0, 0], [0, 0, 0, 0, 0, 0, 0, 0, 0, 0], [0, 0, 0, 0, 0, 0, 0, 0, 0, 0], [0, 0, 0, 0, 0, 0, 0, 0, 0, 0], [0, 0, 0, 0, 0, 0, 0, 0, 0, 0]], [[0, c9, 0, 0, 0, 0, 0, 0, 0, 0], [c3, 0, 0, 0, 0, 0, 0, 0, 0, 0], [0, 0, 0, 0, 0, 0, 0, 0, 0, 0], [0, 0, 0, 0, 0, 0, 0, 0, 0, 0], [0, 0, 0, 0, 0, 0, 0, 0, 0, 0], [0, 0, 0, 0, 0, 0, 0, 0, 0, 0], [0, 0, 0, 0, 0, 0, 0, 0, 0, 0], [0, 0, 0, 0, 0, 0, 0, 0, 0, 0], [0, 0, 0, 0, 0, 0, 0, 0, 0, 0], [0, 0, 0, 0, 0, 0, 0, 0, 0, 0]], [[0, 0, 0, 0, 0, 0, 0, 0, 0, 0], [0, 0, 0, 0, 0, 0, 0, 0, 0, 0], [0, 0, 0, 0, 0, 0, 0, 0, 0, 0], [0, 0, 0, 0, 0, 0, 0, 0, 0, 0], [0, 0, 0, 0, 0, 0, 0, 0, 0, 0], [0, 0, 0, 0, 0, 0, 0, 0, 0, 0], [0, 0, 0, 0, 0, 0, 0, 0, 0, 0], [0, 0, 0, 0, 0, 0, 0, 0, 0, 0], [0, 0, 0, 0, 0, 0, 0, 0, 0, 0], [0, 0, 0, 0, 0, 0, 0, 0, 0, 0]], [[0, 0, 0, 0, 0, 0, 0, 0, 0, 0], [0, 0, 0, 0, 0, 0, 0, 0, 0, 0], [0, 0, 0, 0, 0, 0, 0, 0, 0, 0], [0, 0, 0, 0, 0, 0, 0, 0, 0, 0], [0, 0, 0, 0, 0, 0, 0, 0, 0, 0], [0, 0, 0, 0, 0, 0, 0, 0, 0, 0], [0, 0, 0, 0, 0, 0, 0, 0, 0, 0], [0, 0, 0, 0, 0, 0, 0, 0, 0, 0], [0, 0, 0, 0, 0, 0, 0, 0, 0, 0], [0, 0, 0, 0, 0, 0, 0, 0, 0, 0]], [[0, 0, 0, 0, 0, 0, 0, 0, 0, 0], [0, 0, 0, 0, 0, 0, 0, 0, 0, 0], [0, 0, 0, 0, 0, 0, 0, 0, 0, 0], [0, 0, 0, 0, 0, 0, 0, 0, 0, 0], [0, 0, 0, 0, 0, 0, 0, 0, 0, 0], [0, 0, 0, 0, 0, 0, 0, 0, 0, 0], [0, 0, 0, 0, 0, 0, 0, 0, 0, 0], [0, 0, 0, 0, 0, 0, 0, 0, 0, 0], [0, 0, 0, 0, 0, 0, 0, 0, 0, 0], [0, 0, 0, 0, 0, 0, 0, 0, 0, 0]], [[0, 0, 0, 0, 0, 0, 0, 0, 0, 0], [0, 0, 0, 0, 0, 0, 0, 0, 0, 0], [0, 0, 0, 0, 0, 0, 0, 0, 0, 0], [0, 0, 0, 0, 0, 0, 0, 0, 0, 0], [0, 0, 0, 0, 0, 0, 0, 0, 0, 0], [0, 0, 0, 0, 0, 0, 0, 0, 0, 0], [0, 0, 0, 0, 0, 0, 0, 0, 0, 0], [0, 0, 0, 0, 0, 0, 0, 0, 0, 0], [0, 0, 0, 0, 0, 0, 0, 0, 0, 0], [0, 0, 0, 0, 0, 0, 0, 0, 0, 0]], [[0, 0, 0, 0, 0, 0, 0, 0, 0, 0], [0, 0, 0, 0, 0, 0, 0, 0, 0, 0], [0, 0, 0, 0, 0, 0, 0, 0, 0, 0], [0, 0, 0, 0, 0, 0, 0, 0, 0, 0], [0, 0, 0, 0, 0, 0, 0, 0, 0, 0], [0, 0, 0, 0, 0, 0, 0, 0, 0, 0], [0, 0, 0, 0, 0, 0, 0, 0, 0, 0], [0, 0, 0, 0, 0, 0, 0, 0, 0, 0], [0, 0, 0, 0, 0, 0, 0, 0, 0, 0], [0, 0, 0, 0, 0, 0, 0, 0, 0, 0]], [[0, 0, 0, 0, 0, 0, 0, 0, 0, 0], [0, 0, 0, 0, 0, 0, 0, 0, 0, 0], [0, 0, 0, 0, 0, 0, 0, 0, 0, 0], [0, 0, 0, 0, 0, 0, 0, 0, 0, 0], [0, 0, 0, 0, 0, 0, 0, 0, 0, 0], [0, 0, 0, 0, 0, 0, 0, 0, 0, 0], [0, 0, 0, 0, 0, 0, 0, 0, 0, 0], [0, 0, 0, 0, 0, 0, 0, 0, 0, 0], [0, 0, 0, 0, 0, 0, 0, 0, 0, 0], [0, 0, 0, 0, 0, 0, 0, 0, 0, 0]]]]"
      ]
     },
     "execution_count": 43,
     "metadata": {},
     "output_type": "execute_result"
    }
   ],
   "source": [
    "# Xs_list\n",
    "# sympy.Array(Xs_list).free_symbols\n",
    "sympy.Array(Xs_list)"
   ]
  },
  {
   "cell_type": "code",
   "execution_count": null,
   "metadata": {},
   "outputs": [
    {
     "name": "stdout",
     "output_type": "stream",
     "text": [
      "X [c3*y + c9*z, c2*y - 2*c3*y**2 + c8*z - 2*c9*z**2, c1*y + c10*y*z - c2*y**2 + c3*y**3 + c7*z - c8*z**2 + c9*z**3, c4*y*z + c5*y**2*z - c5*y*z**2 + c6*y**3*z - 2*c6*y**2*z**2 + c6*y*z**3]\n",
      "Y [[c3, c9*z], [-2*c3, c2, c8*z - 2*c9*z**2], [c3, -c2, c1 + c10*z, c7*z - c8*z**2 + c9*z**3], [c6*z, c5*z - 2*c6*z**2, c4*z - c5*z**2 + c6*z**3]]\n",
      "Final Matrix [[[c3], [c9]], [[-2*c3], [c2], [-2*c9, c8]], [[c3], [-c2], [c10, c1], [c9, -c8, c7]], [[c6], [-2*c6, c5], [c6, -c5, c4]]]\n",
      "4 4 2 3\n"
     ]
    }
   ],
   "source": [
    "X = Poly(f, x)\n",
    "X_coeffs = X.coeffs()\n",
    "print('X', X_coeffs)   \n",
    "\n",
    "Y_coeffs = []\n",
    "for i in X_coeffs:\n",
    "    Y = Poly(i, y)\n",
    "    Y_coeffs.append(Y.coeffs())\n",
    "print('Y', Y_coeffs)\n",
    "\n",
    "Final_matrix = []\n",
    "\n",
    "for i in Y_coeffs:\n",
    "    Z_coeffs = []\n",
    "    for j in i:\n",
    "        Z = Poly(j, z)\n",
    "        Z_coeffs.append(Z.coeffs())\n",
    "    Final_matrix.append(Z_coeffs)\n",
    "\n",
    "\n",
    "print('Final Matrix', Final_matrix)\n",
    "\n",
    "print(len(X_coeffs), len(Y_coeffs), len(Y_coeffs[0]), len(Z_coeffs))"
   ]
  },
  {
   "cell_type": "code",
   "execution_count": null,
   "metadata": {},
   "outputs": [
    {
     "ename": "AttributeError",
     "evalue": "'tuple' object has no attribute 'as_coefficients_dict'",
     "output_type": "error",
     "traceback": [
      "\u001b[1;31m---------------------------------------------------------------------------\u001b[0m",
      "\u001b[1;31mAttributeError\u001b[0m                            Traceback (most recent call last)",
      "\u001b[1;32mc:\\Users\\zhenyap\\pycalphad\\Find words.ipynb Cell 16\u001b[0m in \u001b[0;36m<cell line: 1>\u001b[1;34m()\u001b[0m\n\u001b[1;32m----> <a href='vscode-notebook-cell:/c%3A/Users/zhenyap/pycalphad/Find%20words.ipynb#X31sZmlsZQ%3D%3D?line=0'>1</a>\u001b[0m Zs\u001b[39m.\u001b[39;49mas_coefficients_dict()[S\u001b[39m.\u001b[39mOne]\n",
      "\u001b[1;31mAttributeError\u001b[0m: 'tuple' object has no attribute 'as_coefficients_dict'"
     ]
    }
   ],
   "source": [
    "Zs.as_coefficients_dict()[S.One]"
   ]
  },
  {
   "cell_type": "code",
   "execution_count": null,
   "metadata": {},
   "outputs": [
    {
     "ename": "SympifyError",
     "evalue": "SympifyError: 'MG'",
     "output_type": "error",
     "traceback": [
      "\u001b[1;31m---------------------------------------------------------------------------\u001b[0m",
      "\u001b[1;31mSympifyError\u001b[0m                              Traceback (most recent call last)",
      "\u001b[1;32mc:\\Users\\zhenyap\\pycalphad\\Find words.ipynb Cell 16\u001b[0m in \u001b[0;36m<cell line: 29>\u001b[1;34m()\u001b[0m\n\u001b[0;32m     <a href='vscode-notebook-cell:/c%3A/Users/zhenyap/pycalphad/Find%20words.ipynb#X30sZmlsZQ%3D%3D?line=25'>26</a>\u001b[0m             return_dict[comp] \u001b[39m=\u001b[39m comp \u001b[39m+\u001b[39m correction_term\n\u001b[0;32m     <a href='vscode-notebook-cell:/c%3A/Users/zhenyap/pycalphad/Find%20words.ipynb#X30sZmlsZQ%3D%3D?line=26'>27</a>\u001b[0m         \u001b[39mreturn\u001b[39;00m return_dict\n\u001b[1;32m---> <a href='vscode-notebook-cell:/c%3A/Users/zhenyap/pycalphad/Find%20words.ipynb#X30sZmlsZQ%3D%3D?line=28'>29</a>\u001b[0m return_dict \u001b[39m=\u001b[39m _Muggianu_correction_dict(comps)\n",
      "\u001b[1;32mc:\\Users\\zhenyap\\pycalphad\\Find words.ipynb Cell 16\u001b[0m in \u001b[0;36m_Muggianu_correction_dict\u001b[1;34m(comps)\u001b[0m\n\u001b[0;32m     <a href='vscode-notebook-cell:/c%3A/Users/zhenyap/pycalphad/Find%20words.ipynb#X30sZmlsZQ%3D%3D?line=21'>22</a>\u001b[0m arity \u001b[39m=\u001b[39m \u001b[39mlen\u001b[39m(comps)\n\u001b[0;32m     <a href='vscode-notebook-cell:/c%3A/Users/zhenyap/pycalphad/Find%20words.ipynb#X30sZmlsZQ%3D%3D?line=22'>23</a>\u001b[0m return_dict \u001b[39m=\u001b[39m {}\n\u001b[1;32m---> <a href='vscode-notebook-cell:/c%3A/Users/zhenyap/pycalphad/Find%20words.ipynb#X30sZmlsZQ%3D%3D?line=23'>24</a>\u001b[0m correction_term \u001b[39m=\u001b[39m (S\u001b[39m.\u001b[39mOne \u001b[39m-\u001b[39m Add(\u001b[39m*\u001b[39;49mcomps)) \u001b[39m/\u001b[39m arity\n\u001b[0;32m     <a href='vscode-notebook-cell:/c%3A/Users/zhenyap/pycalphad/Find%20words.ipynb#X30sZmlsZQ%3D%3D?line=24'>25</a>\u001b[0m \u001b[39mfor\u001b[39;00m comp \u001b[39min\u001b[39;00m comps:\n\u001b[0;32m     <a href='vscode-notebook-cell:/c%3A/Users/zhenyap/pycalphad/Find%20words.ipynb#X30sZmlsZQ%3D%3D?line=25'>26</a>\u001b[0m     return_dict[comp] \u001b[39m=\u001b[39m comp \u001b[39m+\u001b[39m correction_term\n",
      "File \u001b[1;32mc:\\Users\\zhenyap\\Miniconda3\\envs\\calphad\\lib\\site-packages\\sympy\\core\\cache.py:70\u001b[0m, in \u001b[0;36m__cacheit.<locals>.func_wrapper.<locals>.wrapper\u001b[1;34m(*args, **kwargs)\u001b[0m\n\u001b[0;32m     67\u001b[0m \u001b[39m@wraps\u001b[39m(func)\n\u001b[0;32m     68\u001b[0m \u001b[39mdef\u001b[39;00m \u001b[39mwrapper\u001b[39m(\u001b[39m*\u001b[39margs, \u001b[39m*\u001b[39m\u001b[39m*\u001b[39mkwargs):\n\u001b[0;32m     69\u001b[0m     \u001b[39mtry\u001b[39;00m:\n\u001b[1;32m---> 70\u001b[0m         retval \u001b[39m=\u001b[39m cfunc(\u001b[39m*\u001b[39margs, \u001b[39m*\u001b[39m\u001b[39m*\u001b[39mkwargs)\n\u001b[0;32m     71\u001b[0m     \u001b[39mexcept\u001b[39;00m \u001b[39mTypeError\u001b[39;00m \u001b[39mas\u001b[39;00m e:\n\u001b[0;32m     72\u001b[0m         \u001b[39mif\u001b[39;00m \u001b[39mnot\u001b[39;00m e\u001b[39m.\u001b[39margs \u001b[39mor\u001b[39;00m \u001b[39mnot\u001b[39;00m e\u001b[39m.\u001b[39margs[\u001b[39m0\u001b[39m]\u001b[39m.\u001b[39mstartswith(\u001b[39m'\u001b[39m\u001b[39munhashable type:\u001b[39m\u001b[39m'\u001b[39m):\n",
      "File \u001b[1;32mc:\\Users\\zhenyap\\Miniconda3\\envs\\calphad\\lib\\site-packages\\sympy\\core\\operations.py:57\u001b[0m, in \u001b[0;36mAssocOp.__new__\u001b[1;34m(cls, evaluate, _sympify, *args)\u001b[0m\n\u001b[0;32m     52\u001b[0m \u001b[39m@cacheit\u001b[39m\n\u001b[0;32m     53\u001b[0m \u001b[39mdef\u001b[39;00m \u001b[39m__new__\u001b[39m(\u001b[39mcls\u001b[39m, \u001b[39m*\u001b[39margs, evaluate\u001b[39m=\u001b[39m\u001b[39mNone\u001b[39;00m, _sympify\u001b[39m=\u001b[39m\u001b[39mTrue\u001b[39;00m):\n\u001b[0;32m     54\u001b[0m     \u001b[39m# Allow faster processing by passing ``_sympify=False``, if all arguments\u001b[39;00m\n\u001b[0;32m     55\u001b[0m     \u001b[39m# are already sympified.\u001b[39;00m\n\u001b[0;32m     56\u001b[0m     \u001b[39mif\u001b[39;00m _sympify:\n\u001b[1;32m---> 57\u001b[0m         args \u001b[39m=\u001b[39m \u001b[39mlist\u001b[39;49m(\u001b[39mmap\u001b[39;49m(_sympify_, args))\n\u001b[0;32m     59\u001b[0m     \u001b[39m# Disallow non-Expr args in Add/Mul\u001b[39;00m\n\u001b[0;32m     60\u001b[0m     typ \u001b[39m=\u001b[39m \u001b[39mcls\u001b[39m\u001b[39m.\u001b[39m_args_type\n",
      "File \u001b[1;32mc:\\Users\\zhenyap\\Miniconda3\\envs\\calphad\\lib\\site-packages\\sympy\\core\\sympify.py:528\u001b[0m, in \u001b[0;36m_sympify\u001b[1;34m(a)\u001b[0m\n\u001b[0;32m    502\u001b[0m \u001b[39mdef\u001b[39;00m \u001b[39m_sympify\u001b[39m(a):\n\u001b[0;32m    503\u001b[0m     \u001b[39m\"\"\"\u001b[39;00m\n\u001b[0;32m    504\u001b[0m \u001b[39m    Short version of :func:`~.sympify` for internal usage for ``__add__`` and\u001b[39;00m\n\u001b[0;32m    505\u001b[0m \u001b[39m    ``__eq__`` methods where it is ok to allow some things (like Python\u001b[39;00m\n\u001b[1;32m   (...)\u001b[0m\n\u001b[0;32m    526\u001b[0m \n\u001b[0;32m    527\u001b[0m \u001b[39m    \"\"\"\u001b[39;00m\n\u001b[1;32m--> 528\u001b[0m     \u001b[39mreturn\u001b[39;00m sympify(a, strict\u001b[39m=\u001b[39;49m\u001b[39mTrue\u001b[39;49;00m)\n",
      "File \u001b[1;32mc:\\Users\\zhenyap\\Miniconda3\\envs\\calphad\\lib\\site-packages\\sympy\\core\\sympify.py:449\u001b[0m, in \u001b[0;36msympify\u001b[1;34m(a, locals, convert_xor, strict, rational, evaluate)\u001b[0m\n\u001b[0;32m    446\u001b[0m                 \u001b[39mcontinue\u001b[39;00m\n\u001b[0;32m    448\u001b[0m \u001b[39mif\u001b[39;00m strict:\n\u001b[1;32m--> 449\u001b[0m     \u001b[39mraise\u001b[39;00m SympifyError(a)\n\u001b[0;32m    451\u001b[0m \u001b[39mif\u001b[39;00m iterable(a):\n\u001b[0;32m    452\u001b[0m     \u001b[39mtry\u001b[39;00m:\n",
      "\u001b[1;31mSympifyError\u001b[0m: SympifyError: 'MG'"
     ]
    }
   ],
   "source": [
    "from pycalphad import Database\n",
    "dbf = Database('Mg_Si_Zn-mixingonly.tdb')\n",
    "comps = ['MG', 'SI', 'ZN', 'VA']\n",
    "def _Muggianu_correction_dict(comps): #pylint: disable=C0103\n",
    "        \"\"\"\n",
    "        Replace y_i -> y_i + (1 - sum(y involved in parameter)) / m,\n",
    "        where m is the arity of the interaction parameter.\n",
    "        Returns a dict converting the list of Symbols (comps) to this.\n",
    "        m is assumed equal to the length of comps.\n",
    "        When incorporating binary, ternary or n-ary interaction parameters\n",
    "        into systems with more than n components, the sum of site fractions\n",
    "        involved in the interaction parameter may no longer be unity. This\n",
    "        breaks the symmetry of the parameter. The solution suggested by\n",
    "        Muggianu, 1975, is to renormalize the site fractions by replacing them\n",
    "        with a term that will sum to unity even in higher-order systems.\n",
    "        There are other solutions that involve retaining the asymmetry for\n",
    "        physical reasons, but this solution works well for components that\n",
    "        are physically similar.\n",
    "        This procedure is based on an analysis by Hillert, 1980,\n",
    "        published in the Calphad journal.\n",
    "        \"\"\"\n",
    "        arity = len(comps)\n",
    "        return_dict = {}\n",
    "        correction_term = (S.One - Add(*comps)) / arity\n",
    "        for comp in comps:\n",
    "            return_dict[comp] = comp + correction_term\n",
    "        return return_dict\n",
    "\n",
    "return_dict = _Muggianu_correction_dict(comps)"
   ]
  },
  {
   "cell_type": "code",
   "execution_count": null,
   "metadata": {},
   "outputs": [
    {
     "name": "stdout",
     "output_type": "stream",
     "text": [
      "[1, y, y**2, x, x*y, x*y**2, x**2, x**2*y, x**2*y**2]\n"
     ]
    }
   ],
   "source": [
    "test_list = []\n",
    "for i in range(3):\n",
    "    for j in range(3):\n",
    "        test_list.append(x**i*y**j)\n",
    "\n",
    "print(test_list)"
   ]
  },
  {
   "cell_type": "code",
   "execution_count": null,
   "metadata": {},
   "outputs": [
    {
     "data": {
      "text/latex": [
       "$\\displaystyle - 202.201900604718 y^{7} + 138.409683576739 y^{6} z - 539.251190264315 y^{6} + 993.492520369481 y^{5} z^{2} - 3011.05686020635 y^{5} z + 1083.33920641707 y^{5} + 1071.64516084691 y^{4} z^{3} + 178.602465948678 y^{4} z^{2} - 3847.68793400637 y^{4} z + 1838.8442245673 y^{4} + 4449.83191281374 y^{3} z^{4} + 484.248502041328 y^{3} z^{3} - 11030.1433183376 y^{3} z^{2} + 7246.83545874285 y^{3} z - 1005.03048151605 y^{3} - 70.2327687366633 y^{2} z^{5} + 11157.1391054799 y^{2} z^{4} - 19587.9799260731 y^{2} z^{3} + 7990.43498337635 y^{2} z^{2} + 1163.93560116574 y^{2} z - 603.893332898698 y^{2} - 2155.36872964672 y z^{6} + 9617.36586667336 y z^{5} - 8934.42704671868 y z^{4} - 4067.81577258997 y z^{3} + 8487.30353720832 y z^{2} - 3227.41833120724 y z + 367.969953242459 y - 969.072523686815 z^{7} + 2132.21050197004 z^{6} + 864.689302178735 z^{5} - 5349.8432971545 z^{4} + 5029.1578980949 z^{3} - 1666.89077192751 z^{2} + 167.64470426173 z - 11.5436096489429$"
      ],
      "text/plain": [
       "-202.201900604718*y**7 + 138.409683576739*y**6*z - 539.251190264315*y**6 + 993.492520369481*y**5*z**2 - 3011.05686020635*y**5*z + 1083.33920641707*y**5 + 1071.64516084691*y**4*z**3 + 178.602465948678*y**4*z**2 - 3847.68793400637*y**4*z + 1838.8442245673*y**4 + 4449.83191281374*y**3*z**4 + 484.248502041328*y**3*z**3 - 11030.1433183376*y**3*z**2 + 7246.83545874285*y**3*z - 1005.03048151605*y**3 - 70.2327687366633*y**2*z**5 + 11157.1391054799*y**2*z**4 - 19587.9799260731*y**2*z**3 + 7990.43498337635*y**2*z**2 + 1163.93560116574*y**2*z - 603.893332898698*y**2 - 2155.36872964672*y*z**6 + 9617.36586667336*y*z**5 - 8934.42704671868*y*z**4 - 4067.81577258997*y*z**3 + 8487.30353720832*y*z**2 - 3227.41833120724*y*z + 367.969953242459*y - 969.072523686815*z**7 + 2132.21050197004*z**6 + 864.689302178735*z**5 - 5349.8432971545*z**4 + 5029.1578980949*z**3 - 1666.89077192751*z**2 + 167.64470426173*z - 11.5436096489429"
      ]
     },
     "execution_count": 11,
     "metadata": {},
     "output_type": "execute_result"
    }
   ],
   "source": [
    "Xs_list[0][0]"
   ]
  },
  {
   "cell_type": "code",
   "execution_count": null,
   "metadata": {},
   "outputs": [
    {
     "name": "stdout",
     "output_type": "stream",
     "text": [
      "-9617.36586667336*(0.224112169540687*z**6 - 1.0*z**5 + 0.928988994551903*z**4 + 0.422965688212611*z**3 - 0.882497729094305*z**2 + 0.335582359655368*z - 0.0382609914547984)\n"
     ]
    }
   ],
   "source": [
    "from sympy import factor,pprint\n",
    "\n",
    "\n",
    "# pprint(expr)\n",
    "\n",
    "# Factor function\n",
    "factored_Xs_list_1 = factor(Ys_list[0][0][0])\n",
    "# factored_expr = factor(expr)\n",
    "print(factored_Xs_list_1)"
   ]
  },
  {
   "cell_type": "code",
   "execution_count": null,
   "metadata": {},
   "outputs": [
    {
     "ename": "TypeError",
     "evalue": "object of type 'method' has no len()",
     "output_type": "error",
     "traceback": [
      "\u001b[1;31m---------------------------------------------------------------------------\u001b[0m",
      "\u001b[1;31mTypeError\u001b[0m                                 Traceback (most recent call last)",
      "\u001b[1;32mc:\\Users\\zhenyap\\pycalphad\\Find words.ipynb Cell 13\u001b[0m in \u001b[0;36m<cell line: 1>\u001b[1;34m()\u001b[0m\n\u001b[1;32m----> <a href='vscode-notebook-cell:/c%3A/Users/zhenyap/pycalphad/Find%20words.ipynb#X16sZmlsZQ%3D%3D?line=0'>1</a>\u001b[0m \u001b[39mlen\u001b[39;49m(expr\u001b[39m.\u001b[39;49mas_poly(T)\u001b[39m.\u001b[39;49mall_coeffs)\n",
      "\u001b[1;31mTypeError\u001b[0m: object of type 'method' has no len()"
     ]
    }
   ],
   "source": [
    "expr.as_poly(T).all_coeffs"
   ]
  },
  {
   "cell_type": "code",
   "execution_count": null,
   "metadata": {},
   "outputs": [
    {
     "ename": "KeyError",
     "evalue": "y - z",
     "output_type": "error",
     "traceback": [
      "\u001b[1;31m---------------------------------------------------------------------------\u001b[0m",
      "\u001b[1;31mKeyError\u001b[0m                                  Traceback (most recent call last)",
      "\u001b[1;32mc:\\Users\\zhenyap\\pycalphad\\Find words.ipynb Cell 12\u001b[0m in \u001b[0;36m<cell line: 1>\u001b[1;34m()\u001b[0m\n\u001b[1;32m----> <a href='vscode-notebook-cell:/c%3A/Users/zhenyap/pycalphad/Find%20words.ipynb#X14sZmlsZQ%3D%3D?line=0'>1</a>\u001b[0m \u001b[39mprint\u001b[39m(collect(Xs_list[\u001b[39m0\u001b[39;49m][\u001b[39m0\u001b[39;49m],y \u001b[39m-\u001b[39;49m z,evaluate\u001b[39m=\u001b[39;49m\u001b[39mFalse\u001b[39;49;00m)[y \u001b[39m-\u001b[39;49m z])\n",
      "\u001b[1;31mKeyError\u001b[0m: y - z"
     ]
    }
   ],
   "source": [
    "print(collect(Xs_list[0][0],y - z,evaluate=False)[y - z])"
   ]
  }
 ],
 "metadata": {
  "kernelspec": {
   "display_name": "Python 3.10.4 ('calphad')",
   "language": "python",
   "name": "python3"
  },
  "language_info": {
   "codemirror_mode": {
    "name": "ipython",
    "version": 3
   },
   "file_extension": ".py",
   "mimetype": "text/x-python",
   "name": "python",
   "nbconvert_exporter": "python",
   "pygments_lexer": "ipython3",
   "version": "3.10.4"
  },
  "orig_nbformat": 4,
  "vscode": {
   "interpreter": {
    "hash": "818be52fc3e67187423b156bcc805b3603ed8f46451ea39369ad69a186d5bd38"
   }
  }
 },
 "nbformat": 4,
 "nbformat_minor": 2
}
